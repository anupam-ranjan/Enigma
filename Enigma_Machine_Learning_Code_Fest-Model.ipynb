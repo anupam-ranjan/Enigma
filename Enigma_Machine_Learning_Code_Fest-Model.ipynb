{
 "cells": [
  {
   "cell_type": "markdown",
   "metadata": {},
   "source": [
    "# <Center> Enigma Machine Learning Code Fest - Model Development</Center>"
   ]
  },
  {
   "cell_type": "code",
   "execution_count": 316,
   "metadata": {},
   "outputs": [],
   "source": [
    "import os\n",
    "os.chdir('E:/Anupam/HomeDocs/DataScience/UpX-Academy/Hackathon/Enigma/Dataset/')\n",
    "import warnings\n",
    "warnings.filterwarnings(\"ignore\")"
   ]
  },
  {
   "cell_type": "code",
   "execution_count": 317,
   "metadata": {},
   "outputs": [],
   "source": [
    "import numpy as np\n",
    "import pandas as pd\n",
    "import matplotlib.pyplot as plt\n",
    "import seaborn as sns\n",
    "from sklearn import metrics\n",
    "from sklearn.cross_validation import train_test_split\n",
    "from sklearn.metrics import confusion_matrix,accuracy_score\n",
    "#PCA\n",
    "from sklearn.cross_validation import cross_val_score\n",
    "from sklearn.preprocessing import LabelEncoder\n",
    "from sklearn.decomposition import PCA"
   ]
  },
  {
   "cell_type": "code",
   "execution_count": 318,
   "metadata": {},
   "outputs": [
    {
     "data": {
      "text/html": [
       "<div>\n",
       "<style scoped>\n",
       "    .dataframe tbody tr th:only-of-type {\n",
       "        vertical-align: middle;\n",
       "    }\n",
       "\n",
       "    .dataframe tbody tr th {\n",
       "        vertical-align: top;\n",
       "    }\n",
       "\n",
       "    .dataframe thead th {\n",
       "        text-align: right;\n",
       "    }\n",
       "</style>\n",
       "<table border=\"1\" class=\"dataframe\">\n",
       "  <thead>\n",
       "    <tr style=\"text-align: right;\">\n",
       "      <th></th>\n",
       "      <th>ID</th>\n",
       "      <th>Tag</th>\n",
       "      <th>Reputation</th>\n",
       "      <th>Answers</th>\n",
       "      <th>Username</th>\n",
       "      <th>Views</th>\n",
       "      <th>Upvotes</th>\n",
       "      <th>Total_Answers_by_User</th>\n",
       "      <th>Views_per_Answer</th>\n",
       "      <th>Views_per_Reputation</th>\n",
       "      <th>Views_Scale</th>\n",
       "      <th>Reputation_Scale</th>\n",
       "      <th>Answers_Scale</th>\n",
       "    </tr>\n",
       "  </thead>\n",
       "  <tbody>\n",
       "    <tr>\n",
       "      <th>0</th>\n",
       "      <td>52664</td>\n",
       "      <td>0</td>\n",
       "      <td>3942</td>\n",
       "      <td>2</td>\n",
       "      <td>155623</td>\n",
       "      <td>7855</td>\n",
       "      <td>42</td>\n",
       "      <td>0.0</td>\n",
       "      <td>1891.02</td>\n",
       "      <td>1.04</td>\n",
       "      <td>0.23</td>\n",
       "      <td>0.52</td>\n",
       "      <td>0.48</td>\n",
       "    </tr>\n",
       "    <tr>\n",
       "      <th>1</th>\n",
       "      <td>327662</td>\n",
       "      <td>0</td>\n",
       "      <td>26046</td>\n",
       "      <td>12</td>\n",
       "      <td>21781</td>\n",
       "      <td>55801</td>\n",
       "      <td>1175</td>\n",
       "      <td>12.0</td>\n",
       "      <td>13433.57</td>\n",
       "      <td>7.41</td>\n",
       "      <td>1.64</td>\n",
       "      <td>3.46</td>\n",
       "      <td>2.89</td>\n",
       "    </tr>\n",
       "    <tr>\n",
       "      <th>2</th>\n",
       "      <td>468453</td>\n",
       "      <td>1</td>\n",
       "      <td>1358</td>\n",
       "      <td>4</td>\n",
       "      <td>56177</td>\n",
       "      <td>8067</td>\n",
       "      <td>60</td>\n",
       "      <td>0.0</td>\n",
       "      <td>1942.06</td>\n",
       "      <td>1.07</td>\n",
       "      <td>0.24</td>\n",
       "      <td>0.18</td>\n",
       "      <td>0.96</td>\n",
       "    </tr>\n",
       "    <tr>\n",
       "      <th>3</th>\n",
       "      <td>96996</td>\n",
       "      <td>0</td>\n",
       "      <td>264</td>\n",
       "      <td>3</td>\n",
       "      <td>168793</td>\n",
       "      <td>27064</td>\n",
       "      <td>9</td>\n",
       "      <td>0.0</td>\n",
       "      <td>6515.41</td>\n",
       "      <td>3.60</td>\n",
       "      <td>0.79</td>\n",
       "      <td>0.04</td>\n",
       "      <td>0.72</td>\n",
       "    </tr>\n",
       "    <tr>\n",
       "      <th>4</th>\n",
       "      <td>131465</td>\n",
       "      <td>1</td>\n",
       "      <td>4271</td>\n",
       "      <td>4</td>\n",
       "      <td>112223</td>\n",
       "      <td>13986</td>\n",
       "      <td>83</td>\n",
       "      <td>0.0</td>\n",
       "      <td>3367.00</td>\n",
       "      <td>1.86</td>\n",
       "      <td>0.41</td>\n",
       "      <td>0.57</td>\n",
       "      <td>0.96</td>\n",
       "    </tr>\n",
       "  </tbody>\n",
       "</table>\n",
       "</div>"
      ],
      "text/plain": [
       "       ID  Tag  Reputation  Answers  Username  Views  Upvotes  \\\n",
       "0   52664    0        3942        2    155623   7855       42   \n",
       "1  327662    0       26046       12     21781  55801     1175   \n",
       "2  468453    1        1358        4     56177   8067       60   \n",
       "3   96996    0         264        3    168793  27064        9   \n",
       "4  131465    1        4271        4    112223  13986       83   \n",
       "\n",
       "   Total_Answers_by_User  Views_per_Answer  Views_per_Reputation  Views_Scale  \\\n",
       "0                    0.0           1891.02                  1.04         0.23   \n",
       "1                   12.0          13433.57                  7.41         1.64   \n",
       "2                    0.0           1942.06                  1.07         0.24   \n",
       "3                    0.0           6515.41                  3.60         0.79   \n",
       "4                    0.0           3367.00                  1.86         0.41   \n",
       "\n",
       "   Reputation_Scale  Answers_Scale  \n",
       "0              0.52           0.48  \n",
       "1              3.46           2.89  \n",
       "2              0.18           0.96  \n",
       "3              0.04           0.72  \n",
       "4              0.57           0.96  "
      ]
     },
     "execution_count": 318,
     "metadata": {},
     "output_type": "execute_result"
    }
   ],
   "source": [
    "train_dataset = pd.read_csv ('train_EDA.csv')\n",
    "test_dataset = pd.read_csv ('test_EDA.csv')\n",
    "train_dataset.head()"
   ]
  },
  {
   "cell_type": "code",
   "execution_count": 319,
   "metadata": {},
   "outputs": [
    {
     "name": "stdout",
     "output_type": "stream",
     "text": [
      "<class 'pandas.core.frame.DataFrame'>\n",
      "RangeIndex: 299 entries, 0 to 298\n",
      "Data columns (total 13 columns):\n",
      "ID                       299 non-null int64\n",
      "Tag                      299 non-null int64\n",
      "Reputation               299 non-null int64\n",
      "Answers                  299 non-null int64\n",
      "Username                 299 non-null int64\n",
      "Views                    299 non-null int64\n",
      "Upvotes                  299 non-null int64\n",
      "Total_Answers_by_User    299 non-null float64\n",
      "Views_per_Answer         299 non-null float64\n",
      "Views_per_Reputation     299 non-null float64\n",
      "Views_Scale              299 non-null float64\n",
      "Reputation_Scale         299 non-null float64\n",
      "Answers_Scale            299 non-null float64\n",
      "dtypes: float64(6), int64(7)\n",
      "memory usage: 30.4 KB\n"
     ]
    },
    {
     "data": {
      "text/plain": [
       "Series([], dtype: float64)"
      ]
     },
     "execution_count": 319,
     "metadata": {},
     "output_type": "execute_result"
    }
   ],
   "source": [
    "train_dataset.info()\n",
    "train_dataset[train_dataset.columns[train_dataset.isnull().any()]].isnull().sum()"
   ]
  },
  {
   "cell_type": "markdown",
   "metadata": {},
   "source": [
    "## Normalize the dataframe"
   ]
  },
  {
   "cell_type": "code",
   "execution_count": 320,
   "metadata": {},
   "outputs": [
    {
     "data": {
      "text/html": [
       "<div>\n",
       "<style scoped>\n",
       "    .dataframe tbody tr th:only-of-type {\n",
       "        vertical-align: middle;\n",
       "    }\n",
       "\n",
       "    .dataframe tbody tr th {\n",
       "        vertical-align: top;\n",
       "    }\n",
       "\n",
       "    .dataframe thead th {\n",
       "        text-align: right;\n",
       "    }\n",
       "</style>\n",
       "<table border=\"1\" class=\"dataframe\">\n",
       "  <thead>\n",
       "    <tr style=\"text-align: right;\">\n",
       "      <th></th>\n",
       "      <th>Tag</th>\n",
       "      <th>Reputation</th>\n",
       "      <th>Answers</th>\n",
       "      <th>Views</th>\n",
       "      <th>Total_Answers_by_User</th>\n",
       "      <th>Views_per_Answer</th>\n",
       "      <th>Views_per_Reputation</th>\n",
       "      <th>Views_Scale</th>\n",
       "      <th>Reputation_Scale</th>\n",
       "      <th>Answers_Scale</th>\n",
       "    </tr>\n",
       "  </thead>\n",
       "  <tbody>\n",
       "    <tr>\n",
       "      <th>0</th>\n",
       "      <td>-1.316004</td>\n",
       "      <td>-0.158982</td>\n",
       "      <td>-0.524248</td>\n",
       "      <td>-0.302833</td>\n",
       "      <td>-0.242558</td>\n",
       "      <td>-0.302833</td>\n",
       "      <td>-0.303161</td>\n",
       "      <td>-0.302865</td>\n",
       "      <td>-0.160349</td>\n",
       "      <td>-0.524201</td>\n",
       "    </tr>\n",
       "    <tr>\n",
       "      <th>1</th>\n",
       "      <td>-1.316004</td>\n",
       "      <td>0.821670</td>\n",
       "      <td>1.909761</td>\n",
       "      <td>0.250135</td>\n",
       "      <td>2.573945</td>\n",
       "      <td>0.250135</td>\n",
       "      <td>0.249717</td>\n",
       "      <td>0.251901</td>\n",
       "      <td>0.821311</td>\n",
       "      <td>1.910752</td>\n",
       "    </tr>\n",
       "    <tr>\n",
       "      <th>2</th>\n",
       "      <td>-0.920542</td>\n",
       "      <td>-0.273622</td>\n",
       "      <td>-0.037446</td>\n",
       "      <td>-0.300388</td>\n",
       "      <td>-0.242558</td>\n",
       "      <td>-0.300388</td>\n",
       "      <td>-0.300557</td>\n",
       "      <td>-0.298931</td>\n",
       "      <td>-0.273874</td>\n",
       "      <td>-0.039231</td>\n",
       "    </tr>\n",
       "    <tr>\n",
       "      <th>3</th>\n",
       "      <td>-1.316004</td>\n",
       "      <td>-0.322158</td>\n",
       "      <td>-0.280847</td>\n",
       "      <td>-0.081293</td>\n",
       "      <td>-0.242558</td>\n",
       "      <td>-0.081293</td>\n",
       "      <td>-0.080968</td>\n",
       "      <td>-0.082533</td>\n",
       "      <td>-0.320620</td>\n",
       "      <td>-0.281716</td>\n",
       "    </tr>\n",
       "    <tr>\n",
       "      <th>4</th>\n",
       "      <td>-0.920542</td>\n",
       "      <td>-0.144386</td>\n",
       "      <td>-0.037446</td>\n",
       "      <td>-0.232123</td>\n",
       "      <td>-0.242558</td>\n",
       "      <td>-0.232123</td>\n",
       "      <td>-0.231990</td>\n",
       "      <td>-0.232044</td>\n",
       "      <td>-0.143654</td>\n",
       "      <td>-0.039231</td>\n",
       "    </tr>\n",
       "  </tbody>\n",
       "</table>\n",
       "</div>"
      ],
      "text/plain": [
       "        Tag  Reputation   Answers     Views  Total_Answers_by_User  \\\n",
       "0 -1.316004   -0.158982 -0.524248 -0.302833              -0.242558   \n",
       "1 -1.316004    0.821670  1.909761  0.250135               2.573945   \n",
       "2 -0.920542   -0.273622 -0.037446 -0.300388              -0.242558   \n",
       "3 -1.316004   -0.322158 -0.280847 -0.081293              -0.242558   \n",
       "4 -0.920542   -0.144386 -0.037446 -0.232123              -0.242558   \n",
       "\n",
       "   Views_per_Answer  Views_per_Reputation  Views_Scale  Reputation_Scale  \\\n",
       "0         -0.302833             -0.303161    -0.302865         -0.160349   \n",
       "1          0.250135              0.249717     0.251901          0.821311   \n",
       "2         -0.300388             -0.300557    -0.298931         -0.273874   \n",
       "3         -0.081293             -0.080968    -0.082533         -0.320620   \n",
       "4         -0.232123             -0.231990    -0.232044         -0.143654   \n",
       "\n",
       "   Answers_Scale  \n",
       "0      -0.524201  \n",
       "1       1.910752  \n",
       "2      -0.039231  \n",
       "3      -0.281716  \n",
       "4      -0.039231  "
      ]
     },
     "execution_count": 320,
     "metadata": {},
     "output_type": "execute_result"
    }
   ],
   "source": [
    "from sklearn import preprocessing\n",
    "train_dataset_normalized = train_dataset.drop(['ID','Username', 'Upvotes'], axis=1)\n",
    "train_dataset_normalized = pd.DataFrame(preprocessing.scale(train_dataset_normalized), \\\n",
    "                                        columns = train_dataset_normalized.columns)\n",
    "\n",
    "# Normalize the test dataset also\n",
    "test_dataset_normalized = test_dataset.drop(['ID','Username'], axis=1)\n",
    "test_dataset_normalized = pd.DataFrame(preprocessing.scale(test_dataset_normalized), \\\n",
    "                                        columns = test_dataset_normalized.columns)\n",
    "train_dataset_normalized.head()"
   ]
  },
  {
   "cell_type": "markdown",
   "metadata": {},
   "source": [
    "## Perform PCA analysis for Dimentionality Reduction"
   ]
  },
  {
   "cell_type": "code",
   "execution_count": 321,
   "metadata": {},
   "outputs": [],
   "source": [
    "#Get the output variable in the label separately\n",
    "label = train_dataset[\"Upvotes\"].values\n",
    "predictors = train_dataset_normalized.values"
   ]
  },
  {
   "cell_type": "code",
   "execution_count": 322,
   "metadata": {},
   "outputs": [
    {
     "data": {
      "text/plain": [
       "array([5.58376562e-01, 2.04073840e-01, 1.18632345e-01, 9.96060341e-02,\n",
       "       1.93108404e-02, 2.42362661e-07, 9.07175103e-08, 4.14884477e-08,\n",
       "       4.35097749e-09, 8.67059843e-16])"
      ]
     },
     "metadata": {},
     "output_type": "display_data"
    },
    {
     "data": {
      "text/plain": [
       "array([5.60250309e+00, 2.04758651e+00, 1.19030440e+00, 9.99402826e-01,\n",
       "       1.93756419e-01, 2.43175958e-06, 9.10219315e-07, 4.16276707e-07,\n",
       "       4.36557809e-08, 8.69969439e-15])"
      ]
     },
     "metadata": {},
     "output_type": "display_data"
    }
   ],
   "source": [
    "#Build the PCA model\n",
    "pca = PCA(n_components = len(train_dataset_normalized.columns))\n",
    "pca.fit_transform(predictors)\n",
    "variance_ratio = pca.explained_variance_ratio_\n",
    "display(variance_ratio)\n",
    "display(pca.explained_variance_)"
   ]
  },
  {
   "cell_type": "code",
   "execution_count": 323,
   "metadata": {},
   "outputs": [
    {
     "data": {
      "image/png": "[encoded data removed]",
      "text/plain": [
       "<matplotlib.figure.Figure at 0x100dccf8>"
      ]
     },
     "metadata": {},
     "output_type": "display_data"
    }
   ],
   "source": [
    "#Plot the Scree Plot\n",
    "#scree plot\n",
    "plt.figure(figsize=[10,5])\n",
    "features = range(pca.n_components_)\n",
    "plt.bar(features, pca.explained_variance_)\n",
    "plt.xlabel('PCA feature')\n",
    "plt.ylabel('variance')\n",
    "plt.xticks(features)\n",
    "plt.show()"
   ]
  },
  {
   "cell_type": "code",
   "execution_count": 324,
   "metadata": {},
   "outputs": [
    {
     "data": {
      "text/plain": [
       "array([ 55.84,  76.25,  88.11,  98.07, 100.  , 100.  , 100.  , 100.  ,\n",
       "       100.  , 100.  ])"
      ]
     },
     "metadata": {},
     "output_type": "display_data"
    },
    {
     "data": {
      "text/plain": [
       "[<matplotlib.lines.Line2D at 0x101aea58>]"
      ]
     },
     "execution_count": 324,
     "metadata": {},
     "output_type": "execute_result"
    },
    {
     "data": {
      "image/png": "[encoded data removed]",
      "text/plain": [
       "<matplotlib.figure.Figure at 0x10128240>"
      ]
     },
     "metadata": {},
     "output_type": "display_data"
    }
   ],
   "source": [
    "#Plot the cumulating sum of variance ratio\n",
    "variance_ratio_cum_sum = np.cumsum(np.round(pca.explained_variance_ratio_, decimals = 4) * 100)\n",
    "display(variance_ratio_cum_sum)\n",
    "plt.plot(variance_ratio_cum_sum)"
   ]
  },
  {
   "cell_type": "code",
   "execution_count": 325,
   "metadata": {},
   "outputs": [],
   "source": [
    "#Now build the model with chosen number of Principal Components\n",
    "pca = PCA(n_components = 4)\n",
    "pca.fit(predictors)\n",
    "transformed_vector =pca.fit_transform(predictors)"
   ]
  },
  {
   "cell_type": "code",
   "execution_count": 326,
   "metadata": {},
   "outputs": [
    {
     "data": {
      "text/html": [
       "<div>\n",
       "<style scoped>\n",
       "    .dataframe tbody tr th:only-of-type {\n",
       "        vertical-align: middle;\n",
       "    }\n",
       "\n",
       "    .dataframe tbody tr th {\n",
       "        vertical-align: top;\n",
       "    }\n",
       "\n",
       "    .dataframe thead th {\n",
       "        text-align: right;\n",
       "    }\n",
       "</style>\n",
       "<table border=\"1\" class=\"dataframe\">\n",
       "  <thead>\n",
       "    <tr style=\"text-align: right;\">\n",
       "      <th></th>\n",
       "      <th>Tag</th>\n",
       "      <th>Reputation</th>\n",
       "      <th>Answers</th>\n",
       "      <th>Views</th>\n",
       "      <th>Total_Answers_by_User</th>\n",
       "      <th>Views_per_Answer</th>\n",
       "      <th>Views_per_Reputation</th>\n",
       "      <th>Views_Scale</th>\n",
       "      <th>Reputation_Scale</th>\n",
       "      <th>Answers_Scale</th>\n",
       "    </tr>\n",
       "  </thead>\n",
       "  <tbody>\n",
       "    <tr>\n",
       "      <th>PC-1</th>\n",
       "      <td>-0.002813</td>\n",
       "      <td>0.068196</td>\n",
       "      <td>0.353715</td>\n",
       "      <td>0.396223</td>\n",
       "      <td>0.335425</td>\n",
       "      <td>0.396223</td>\n",
       "      <td>0.396226</td>\n",
       "      <td>0.396219</td>\n",
       "      <td>0.068211</td>\n",
       "      <td>0.353686</td>\n",
       "    </tr>\n",
       "    <tr>\n",
       "      <th>PC-2</th>\n",
       "      <td>0.007976</td>\n",
       "      <td>0.672678</td>\n",
       "      <td>0.100351</td>\n",
       "      <td>-0.125583</td>\n",
       "      <td>0.108277</td>\n",
       "      <td>-0.125583</td>\n",
       "      <td>-0.125584</td>\n",
       "      <td>-0.125569</td>\n",
       "      <td>0.672683</td>\n",
       "      <td>0.100313</td>\n",
       "    </tr>\n",
       "    <tr>\n",
       "      <th>PC-3</th>\n",
       "      <td>-0.161152</td>\n",
       "      <td>0.204914</td>\n",
       "      <td>-0.453395</td>\n",
       "      <td>0.273928</td>\n",
       "      <td>-0.422852</td>\n",
       "      <td>0.273928</td>\n",
       "      <td>0.273914</td>\n",
       "      <td>0.273966</td>\n",
       "      <td>0.204864</td>\n",
       "      <td>-0.453366</td>\n",
       "    </tr>\n",
       "    <tr>\n",
       "      <th>PC-4</th>\n",
       "      <td>0.986196</td>\n",
       "      <td>0.027905</td>\n",
       "      <td>-0.088417</td>\n",
       "      <td>0.046836</td>\n",
       "      <td>-0.037656</td>\n",
       "      <td>0.046836</td>\n",
       "      <td>0.046818</td>\n",
       "      <td>0.046837</td>\n",
       "      <td>0.027840</td>\n",
       "      <td>-0.088625</td>\n",
       "    </tr>\n",
       "  </tbody>\n",
       "</table>\n",
       "</div>"
      ],
      "text/plain": [
       "           Tag  Reputation   Answers     Views  Total_Answers_by_User  \\\n",
       "PC-1 -0.002813    0.068196  0.353715  0.396223               0.335425   \n",
       "PC-2  0.007976    0.672678  0.100351 -0.125583               0.108277   \n",
       "PC-3 -0.161152    0.204914 -0.453395  0.273928              -0.422852   \n",
       "PC-4  0.986196    0.027905 -0.088417  0.046836              -0.037656   \n",
       "\n",
       "      Views_per_Answer  Views_per_Reputation  Views_Scale  Reputation_Scale  \\\n",
       "PC-1          0.396223              0.396226     0.396219          0.068211   \n",
       "PC-2         -0.125583             -0.125584    -0.125569          0.672683   \n",
       "PC-3          0.273928              0.273914     0.273966          0.204864   \n",
       "PC-4          0.046836              0.046818     0.046837          0.027840   \n",
       "\n",
       "      Answers_Scale  \n",
       "PC-1       0.353686  \n",
       "PC-2       0.100313  \n",
       "PC-3      -0.453366  \n",
       "PC-4      -0.088625  "
      ]
     },
     "execution_count": 326,
     "metadata": {},
     "output_type": "execute_result"
    }
   ],
   "source": [
    "# Dump the principal components relation with features\n",
    "pd.DataFrame(pca.components_, columns = train_dataset_normalized.columns, index = ['PC-1', 'PC-2', 'PC-3', 'PC-4'])\n"
   ]
  },
  {
   "cell_type": "code",
   "execution_count": 327,
   "metadata": {},
   "outputs": [
    {
     "data": {
      "text/plain": [
       "array([55.84, 76.25, 88.11, 98.07])"
      ]
     },
     "metadata": {},
     "output_type": "display_data"
    }
   ],
   "source": [
    "variance_ratio_cum_sum = np.cumsum(np.round(pca.explained_variance_ratio_, decimals = 4) * 100)\n",
    "display(variance_ratio_cum_sum)\n"
   ]
  },
  {
   "cell_type": "code",
   "execution_count": 328,
   "metadata": {},
   "outputs": [
    {
     "data": {
      "text/plain": [
       "Text(204,0.5,'Principal components')"
      ]
     },
     "execution_count": 328,
     "metadata": {},
     "output_type": "execute_result"
    },
    {
     "data": {
      "image/png": "[encoded data removed]",
      "text/plain": [
       "<matplotlib.figure.Figure at 0x101c4128>"
      ]
     },
     "metadata": {},
     "output_type": "display_data"
    }
   ],
   "source": [
    "# Plot the heat map displaying compliance of principal components with input feature\n",
    "plt.figure(figsize=[25,5])\n",
    "sns.heatmap(pca.components_[0:4,:], annot = True, cmap = 'viridis')\n",
    "plt.yticks([0,1,2,3], [\"PC-1\", \"PC-2\", \"PC-3\", \"PC-4\"], rotation = 360, ha = \"right\")\n",
    "plt.xticks(range(len(features)), features, rotation=90, ha = \"left\")\n",
    "plt.xlabel(\"Feature\")\n",
    "plt.ylabel(\"Principal components\")"
   ]
  },
  {
   "cell_type": "markdown",
   "metadata": {},
   "source": [
    "### Compare the accuracy of the algorithms"
   ]
  },
  {
   "cell_type": "code",
   "execution_count": 329,
   "metadata": {},
   "outputs": [],
   "source": [
    "# Test options and evaluation metric\n",
    "num_folds = 10\n",
    "seed = 7\n",
    "scoring = 'mean_squared_error'"
   ]
  },
  {
   "cell_type": "code",
   "execution_count": 330,
   "metadata": {},
   "outputs": [],
   "source": [
    "from sklearn.linear_model import LinearRegression\n",
    "from sklearn.linear_model import Lasso\n",
    "from sklearn.linear_model import ElasticNet\n",
    "from sklearn.discriminant_analysis import LinearDiscriminantAnalysis\n",
    "from sklearn.neighbors import KNeighborsRegressor\n",
    "from sklearn.tree import DecisionTreeRegressor\n",
    "from sklearn.svm import SVR\n",
    "from sklearn.neighbors import KNeighborsRegressor\n",
    "from sklearn import model_selection\n",
    "from sklearn.model_selection import cross_val_score\n",
    "# Spot Check Algorithms\n",
    "models = []\n",
    "models.append(('LR', LinearRegression()))\n",
    "models.append(('LDA', LinearDiscriminantAnalysis()))\n",
    "models.append(('KNN', KNeighborsRegressor()))\n",
    "models.append(('LASSO', Lasso()))\n",
    "models.append(('EN', ElasticNet()))\n",
    "models.append(('DecisionTree', DecisionTreeRegressor()))\n",
    "models.append(('SVR', SVR()))"
   ]
  },
  {
   "cell_type": "code",
   "execution_count": 331,
   "metadata": {},
   "outputs": [],
   "source": [
    "feature_cols = ['Reputation', 'Answers', 'Views', 'Total_Answers_by_User', 'Views_per_Answer', 'Views_per_Reputation', \\\n",
    "                'Views_Scale', 'Reputation_Scale', 'Answers_Scale']\n",
    "X = train_dataset_normalized [feature_cols]\n",
    "y = train_dataset.Upvotes\n",
    "X_train_ds, X_validate_ds, y_train, y_validate = train_test_split(X, y, test_size=0.33)\n",
    "X_train = X_train_ds.values\n",
    "X_validate = X_validate_ds.values"
   ]
  },
  {
   "cell_type": "code",
   "execution_count": 332,
   "metadata": {},
   "outputs": [
    {
     "name": "stdout",
     "output_type": "stream",
     "text": [
      "LR: -1772952.082312 (2835642.451764)\n",
      "LDA: -4653244.490000 (6285271.602282)\n",
      "KNN: -1459026.337000 (3155593.750113)\n",
      "LASSO: -1697862.291279 (2806090.990012)\n",
      "EN: -1537791.105407 (3295439.351129)\n",
      "DecisionTree: -3581256.025000 (5206494.523806)\n",
      "SVR: -2108767.133893 (4510568.106032)\n"
     ]
    }
   ],
   "source": [
    "# evaluate each model in turn\n",
    "results = []\n",
    "names = []\n",
    "for name, model in models:\n",
    "    kfold = model_selection.KFold(n_splits=10, random_state=seed)\n",
    "    cv_results = model_selection.cross_val_score(model, X_train, y_train, cv=kfold, scoring=scoring)\n",
    "    results.append(cv_results)\n",
    "    names.append(name)\n",
    "    msg = \"%s: %f (%f)\" % (name, cv_results.mean(), cv_results.std())\n",
    "    print(msg)"
   ]
  },
  {
   "cell_type": "code",
   "execution_count": 333,
   "metadata": {},
   "outputs": [
    {
     "data": {
      "image/png": "[encoded data removed]",
      "text/plain": [
       "<matplotlib.figure.Figure at 0x1018e940>"
      ]
     },
     "metadata": {},
     "output_type": "display_data"
    }
   ],
   "source": [
    "# boxplot algorithm comparison\n",
    "fig = plt.figure()\n",
    "\n",
    "fig.suptitle('Algorithm Comparison')\n",
    "ax = fig.add_subplot(111)\n",
    "plt.boxplot(results)\n",
    "ax.set_xticklabels(names)\n",
    "plt.show()"
   ]
  },
  {
   "cell_type": "markdown",
   "metadata": {},
   "source": [
    "### Inference\n",
    "1. Linier Regression, KNN and Support Vector Regression seems to a better algorithm"
   ]
  },
  {
   "cell_type": "markdown",
   "metadata": {},
   "source": [
    "## Build the Linier Regression Model"
   ]
  },
  {
   "cell_type": "code",
   "execution_count": 334,
   "metadata": {},
   "outputs": [],
   "source": [
    "from sklearn.linear_model import LinearRegression\n",
    "from sklearn import linear_model\n",
    "from sklearn import metrics"
   ]
  },
  {
   "cell_type": "code",
   "execution_count": 335,
   "metadata": {},
   "outputs": [],
   "source": [
    "feature_cols = ['Reputation', 'Answers', 'Views', 'Total_Answers_by_User', 'Views_per_Answer', 'Views_per_Reputation', \\\n",
    "                'Views_Scale', 'Reputation_Scale', 'Answers_Scale']\n",
    "X = train_dataset_normalized [feature_cols]\n",
    "y = label\n",
    "X_train_ds, X_validate_ds, y_train, y_validate = train_test_split(X, y, test_size=0.33)\n",
    "\n",
    "X_train = X_train_ds.values\n",
    "X_validate = X_validate_ds.values"
   ]
  },
  {
   "cell_type": "code",
   "execution_count": 336,
   "metadata": {},
   "outputs": [
    {
     "data": {
      "text/plain": [
       "339.9900368098602"
      ]
     },
     "metadata": {},
     "output_type": "display_data"
    },
    {
     "data": {
      "text/plain": [
       "array([ 9.42986288e+04,  7.12094516e+04,  8.44047872e+08,  5.37949561e+02,\n",
       "       -8.44344722e+08,  3.19473987e+05, -2.18466395e+04, -9.38688660e+04,\n",
       "       -7.12766652e+04])"
      ]
     },
     "metadata": {},
     "output_type": "display_data"
    },
    {
     "data": {
      "text/plain": [
       "[('Reputation', 94298.62876811576),\n",
       " ('Answers', 71209.45155084992),\n",
       " ('Views', 844047872.0904719),\n",
       " ('Total_Answers_by_User', 537.9495607870281),\n",
       " ('Views_per_Answer', -844344721.5176393),\n",
       " ('Views_per_Reputation', 319473.9873428247),\n",
       " ('Views_Scale', -21846.639502753173),\n",
       " ('Reputation_Scale', -93868.86603711214),\n",
       " ('Answers_Scale', -71276.66521031733)]"
      ]
     },
     "execution_count": 336,
     "metadata": {},
     "output_type": "execute_result"
    }
   ],
   "source": [
    "#Build the linier regression model\n",
    "linreg = LinearRegression()\n",
    "model = linreg.fit(X_train, y_train)\n",
    "# Display the intercept and coefficient\n",
    "display (linreg.intercept_)\n",
    "display (linreg.coef_)\n",
    "list(zip(feature_cols, linreg.coef_))"
   ]
  },
  {
   "cell_type": "code",
   "execution_count": 337,
   "metadata": {},
   "outputs": [
    {
     "data": {
      "text/plain": [
       "array([-1.02355570e+02,  4.60034823e+03, -2.91903092e+02,  8.76408452e+01,\n",
       "        8.71013223e+02, -8.14488864e+02, -1.15440224e+02, -8.85626362e+01,\n",
       "       -2.72892889e+02, -4.51455231e+02, -3.87539168e+02,  6.37191663e+01,\n",
       "       -9.29663056e+01,  7.52723784e+02, -2.37312101e+02,  1.19325840e+04,\n",
       "        3.72319537e+02, -8.47623068e+01,  1.31177131e+02, -5.47106655e+01,\n",
       "       -1.01027542e+02, -2.82184906e+02, -2.46813649e+02, -3.76248297e+02,\n",
       "        3.40418157e+02,  1.15909137e+03, -2.12778687e+02, -1.49405560e+02,\n",
       "       -2.59433169e+02, -3.48180403e+02, -9.93885895e+01, -1.85841172e+02,\n",
       "       -2.18524709e+01,  3.15434892e+02,  8.13048562e+00, -2.58402541e+02,\n",
       "       -7.13850366e+02, -2.99009135e+00,  4.10169044e+02, -3.97745230e+02,\n",
       "        2.27405814e+02,  2.32616354e+02, -7.40465876e+01, -3.49435422e+02,\n",
       "       -2.67787426e+02,  1.15593036e+01, -8.51751645e+00, -2.12327735e+02,\n",
       "       -1.75145308e+02,  6.30173313e+03,  2.77103309e+02,  9.32386847e+03,\n",
       "        1.09568872e+02, -3.98913880e+01, -3.53283192e+02,  8.92781585e+01,\n",
       "       -5.34427802e+02,  9.10012953e+02,  5.93855542e+02,  6.56840437e+01,\n",
       "       -2.13415823e+02,  9.09433972e+01,  1.14540424e+01, -1.26657971e+02,\n",
       "       -2.13027442e+02, -8.54457028e+01,  2.57788046e+03, -8.06120490e+01,\n",
       "        1.55085558e+02, -1.11753888e+02, -5.74171020e+00, -6.69464495e+02,\n",
       "       -1.64657231e+02, -2.05252460e+02,  2.42499477e+02,  3.98116032e+02,\n",
       "       -8.28572616e+01, -3.77920435e+02, -3.15516734e+01, -3.82921150e+02,\n",
       "       -6.02685645e+01, -6.01644210e+02,  2.60414932e+03,  4.68111801e+01,\n",
       "       -3.88325654e+01, -2.31361916e+01, -2.38593098e+00,  7.91004888e+02,\n",
       "        8.27491698e+01, -2.66813068e+02,  2.27711681e+02,  2.84817533e+02,\n",
       "        5.78347636e+02, -7.40964463e+01, -1.46826615e+02, -3.01116289e+02,\n",
       "       -9.98441115e+01, -3.02679040e+02,  4.85231128e+03])"
      ]
     },
     "execution_count": 337,
     "metadata": {},
     "output_type": "execute_result"
    }
   ],
   "source": [
    "y_pred  = linreg.predict(X_validate)\n",
    "y_pred"
   ]
  },
  {
   "cell_type": "code",
   "execution_count": 338,
   "metadata": {},
   "outputs": [
    {
     "data": {
      "text/plain": [
       "1056.6403987773701"
      ]
     },
     "execution_count": 338,
     "metadata": {},
     "output_type": "execute_result"
    }
   ],
   "source": [
    "rmse_value = np.sqrt(metrics.mean_squared_error(y_validate, y_pred))\n",
    "rmse_value"
   ]
  },
  {
   "cell_type": "code",
   "execution_count": 339,
   "metadata": {},
   "outputs": [
    {
     "data": {
      "text/plain": [
       "0.36235137702669695"
      ]
     },
     "metadata": {},
     "output_type": "display_data"
    }
   ],
   "source": [
    "# Coefficient of determination or R squared value on training dataset\n",
    "display(model.score(X_train,y_train))"
   ]
  },
  {
   "cell_type": "code",
   "execution_count": 340,
   "metadata": {},
   "outputs": [
    {
     "data": {
      "text/plain": [
       "0.5675960907038038"
      ]
     },
     "execution_count": 340,
     "metadata": {},
     "output_type": "execute_result"
    }
   ],
   "source": [
    "# Coefficient of determination or R squared value on test dataset\n",
    "metrics.r2_score(y_validate,y_pred)"
   ]
  },
  {
   "cell_type": "code",
   "execution_count": 270,
   "metadata": {},
   "outputs": [],
   "source": [
    "pred_test = linreg.predict(test_dataset_normalized[['Reputation', 'Answers', 'Views', 'Total_Answers_by_User', 'Views_per_Answer', 'Views_per_Reputation', \\\n",
    "                'Views_Scale', 'Reputation_Scale', 'Answers_Scale']])"
   ]
  },
  {
   "cell_type": "code",
   "execution_count": 271,
   "metadata": {},
   "outputs": [],
   "source": [
    "# Output the Dataframe into a CSV file\n",
    "test_dataset['Upvotes'] = pred_test\n",
    "test_dataset[['ID', 'Upvotes']].to_csv('Submission_Anupam_LR.csv',  index = False)"
   ]
  },
  {
   "cell_type": "markdown",
   "metadata": {},
   "source": [
    "## Build the K Nearest Neighbours Model"
   ]
  },
  {
   "cell_type": "code",
   "execution_count": 272,
   "metadata": {},
   "outputs": [],
   "source": [
    "from sklearn.neighbors import KNeighborsRegressor"
   ]
  },
  {
   "cell_type": "code",
   "execution_count": 273,
   "metadata": {},
   "outputs": [],
   "source": [
    "feature_cols = ['Reputation', 'Answers', 'Views', 'Total_Answers_by_User', 'Views_per_Answer', 'Views_per_Reputation', \\\n",
    "                'Views_Scale', 'Reputation_Scale', 'Answers_Scale']\n",
    "X = train_dataset_normalized [feature_cols]\n",
    "y = label\n",
    "X_train_ds, X_validate_ds, y_train, y_validate = train_test_split(X, y, test_size=0.33)\n",
    "\n",
    "X_train = X_train_ds.values\n",
    "X_validate = X_validate_ds.values"
   ]
  },
  {
   "cell_type": "code",
   "execution_count": 274,
   "metadata": {},
   "outputs": [],
   "source": [
    "knn_reggression = KNeighborsRegressor(n_neighbors = 5)\n",
    "knn_reggression = knn_reggression.fit(X_train, y_train)"
   ]
  },
  {
   "cell_type": "code",
   "execution_count": 275,
   "metadata": {},
   "outputs": [
    {
     "data": {
      "text/plain": [
       "array([1.3000e+01, 3.3200e+01, 4.7200e+01, 3.9400e+01, 1.8800e+01,\n",
       "       1.3000e+01, 2.5800e+01, 3.0000e+00, 5.3400e+01, 2.0680e+02,\n",
       "       5.3400e+01, 1.8800e+01, 7.4000e+00, 1.2400e+01, 6.8000e+00,\n",
       "       3.5400e+01, 7.0000e+00, 7.4320e+02, 9.0000e+00, 1.7640e+02,\n",
       "       3.1060e+02, 6.2000e+01, 9.2000e+00, 6.0600e+01, 6.4000e+00,\n",
       "       5.0800e+01, 2.4900e+02, 5.0000e+01, 5.4200e+01, 7.6000e+00,\n",
       "       7.4000e+00, 8.2000e+00, 1.9958e+03, 4.2814e+03, 4.7600e+01,\n",
       "       4.0200e+01, 7.4000e+00, 5.0600e+01, 1.8200e+01, 4.1540e+02,\n",
       "       1.6832e+03, 1.3800e+01, 1.9240e+03, 5.8000e+00, 7.0000e+00,\n",
       "       1.3000e+01, 2.7800e+01, 3.2600e+01, 2.2600e+01, 2.4000e+01,\n",
       "       7.8000e+00, 9.0000e+00, 2.7600e+01, 3.0000e+00, 2.0060e+02,\n",
       "       2.9400e+01, 1.1520e+02, 5.6260e+02, 1.2400e+01, 7.0000e+00,\n",
       "       1.6420e+02, 2.0080e+02, 7.0000e+00, 1.7400e+01, 3.1060e+02,\n",
       "       7.7600e+01, 2.8600e+01, 3.1800e+01, 4.5200e+01, 5.1600e+01,\n",
       "       1.4500e+02, 8.0000e+00, 1.3000e+01, 3.8000e+00, 6.2400e+01,\n",
       "       3.0200e+01, 8.6000e+00, 1.5800e+01, 8.6000e+00, 4.0200e+01,\n",
       "       3.7200e+01, 1.3000e+01, 5.6260e+02, 4.1200e+01, 5.7600e+01,\n",
       "       1.0920e+03, 1.3000e+01, 5.6260e+02, 1.4660e+02, 1.7100e+02,\n",
       "       6.5800e+01, 1.6800e+01, 5.3400e+01, 4.9400e+01, 8.2000e+00,\n",
       "       1.0920e+03, 5.3200e+01, 1.3380e+02, 3.2400e+01])"
      ]
     },
     "execution_count": 275,
     "metadata": {},
     "output_type": "execute_result"
    }
   ],
   "source": [
    "y_pred = knn_reggression.predict(X_validate)\n",
    "y_pred"
   ]
  },
  {
   "cell_type": "code",
   "execution_count": 276,
   "metadata": {},
   "outputs": [
    {
     "data": {
      "text/plain": [
       "1381.1883050986983"
      ]
     },
     "execution_count": 276,
     "metadata": {},
     "output_type": "execute_result"
    }
   ],
   "source": [
    "rmse_value = np.sqrt(metrics.mean_squared_error(y_validate, y_pred))\n",
    "rmse_value"
   ]
  },
  {
   "cell_type": "code",
   "execution_count": 277,
   "metadata": {},
   "outputs": [
    {
     "data": {
      "text/plain": [
       "0.5398363093955235"
      ]
     },
     "execution_count": 277,
     "metadata": {},
     "output_type": "execute_result"
    }
   ],
   "source": [
    "# Coefficient of determination or R squared value on training dataset\n",
    "knn_reggression.score(X_train,y_train)\n"
   ]
  },
  {
   "cell_type": "code",
   "execution_count": 278,
   "metadata": {},
   "outputs": [
    {
     "data": {
      "text/plain": [
       "0.4110172798008812"
      ]
     },
     "execution_count": 278,
     "metadata": {},
     "output_type": "execute_result"
    }
   ],
   "source": [
    "# Coefficient of determination or R squared value on test dataset\n",
    "metrics.r2_score(y_validate,y_pred)"
   ]
  },
  {
   "cell_type": "code",
   "execution_count": 279,
   "metadata": {},
   "outputs": [],
   "source": [
    "pred_test = knn_reggression.predict(test_dataset_normalized[['Reputation', 'Answers', 'Views', 'Total_Answers_by_User', \\\n",
    "            'Views_per_Answer', 'Views_per_Reputation', 'Views_Scale', 'Reputation_Scale', 'Answers_Scale']])"
   ]
  },
  {
   "cell_type": "code",
   "execution_count": 280,
   "metadata": {},
   "outputs": [],
   "source": [
    "# Output the Dataframe into a CSV file\n",
    "test_dataset['Upvotes'] = pred_test\n",
    "test_dataset[['ID', 'Upvotes']].to_csv('Submission_Anupam_KNN.csv',  index = False)"
   ]
  },
  {
   "cell_type": "markdown",
   "metadata": {},
   "source": [
    "## Build the Random Forest Model"
   ]
  },
  {
   "cell_type": "code",
   "execution_count": 281,
   "metadata": {},
   "outputs": [
    {
     "data": {
      "text/html": [
       "<div>\n",
       "<style scoped>\n",
       "    .dataframe tbody tr th:only-of-type {\n",
       "        vertical-align: middle;\n",
       "    }\n",
       "\n",
       "    .dataframe tbody tr th {\n",
       "        vertical-align: top;\n",
       "    }\n",
       "\n",
       "    .dataframe thead th {\n",
       "        text-align: right;\n",
       "    }\n",
       "</style>\n",
       "<table border=\"1\" class=\"dataframe\">\n",
       "  <thead>\n",
       "    <tr style=\"text-align: right;\">\n",
       "      <th></th>\n",
       "      <th>Tag</th>\n",
       "      <th>Reputation</th>\n",
       "      <th>Answers</th>\n",
       "      <th>Views</th>\n",
       "      <th>Total_Answers_by_User</th>\n",
       "      <th>Views_per_Answer</th>\n",
       "      <th>Views_per_Reputation</th>\n",
       "      <th>Views_Scale</th>\n",
       "      <th>Reputation_Scale</th>\n",
       "      <th>Answers_Scale</th>\n",
       "    </tr>\n",
       "  </thead>\n",
       "  <tbody>\n",
       "    <tr>\n",
       "      <th>0</th>\n",
       "      <td>-1.316004</td>\n",
       "      <td>-0.158982</td>\n",
       "      <td>-0.524248</td>\n",
       "      <td>-0.302833</td>\n",
       "      <td>-0.242558</td>\n",
       "      <td>-0.302833</td>\n",
       "      <td>-0.303161</td>\n",
       "      <td>-0.302865</td>\n",
       "      <td>-0.160349</td>\n",
       "      <td>-0.524201</td>\n",
       "    </tr>\n",
       "    <tr>\n",
       "      <th>1</th>\n",
       "      <td>-1.316004</td>\n",
       "      <td>0.821670</td>\n",
       "      <td>1.909761</td>\n",
       "      <td>0.250135</td>\n",
       "      <td>2.573945</td>\n",
       "      <td>0.250135</td>\n",
       "      <td>0.249717</td>\n",
       "      <td>0.251901</td>\n",
       "      <td>0.821311</td>\n",
       "      <td>1.910752</td>\n",
       "    </tr>\n",
       "    <tr>\n",
       "      <th>2</th>\n",
       "      <td>-0.920542</td>\n",
       "      <td>-0.273622</td>\n",
       "      <td>-0.037446</td>\n",
       "      <td>-0.300388</td>\n",
       "      <td>-0.242558</td>\n",
       "      <td>-0.300388</td>\n",
       "      <td>-0.300557</td>\n",
       "      <td>-0.298931</td>\n",
       "      <td>-0.273874</td>\n",
       "      <td>-0.039231</td>\n",
       "    </tr>\n",
       "    <tr>\n",
       "      <th>3</th>\n",
       "      <td>-1.316004</td>\n",
       "      <td>-0.322158</td>\n",
       "      <td>-0.280847</td>\n",
       "      <td>-0.081293</td>\n",
       "      <td>-0.242558</td>\n",
       "      <td>-0.081293</td>\n",
       "      <td>-0.080968</td>\n",
       "      <td>-0.082533</td>\n",
       "      <td>-0.320620</td>\n",
       "      <td>-0.281716</td>\n",
       "    </tr>\n",
       "    <tr>\n",
       "      <th>4</th>\n",
       "      <td>-0.920542</td>\n",
       "      <td>-0.144386</td>\n",
       "      <td>-0.037446</td>\n",
       "      <td>-0.232123</td>\n",
       "      <td>-0.242558</td>\n",
       "      <td>-0.232123</td>\n",
       "      <td>-0.231990</td>\n",
       "      <td>-0.232044</td>\n",
       "      <td>-0.143654</td>\n",
       "      <td>-0.039231</td>\n",
       "    </tr>\n",
       "  </tbody>\n",
       "</table>\n",
       "</div>"
      ],
      "text/plain": [
       "        Tag  Reputation   Answers     Views  Total_Answers_by_User  \\\n",
       "0 -1.316004   -0.158982 -0.524248 -0.302833              -0.242558   \n",
       "1 -1.316004    0.821670  1.909761  0.250135               2.573945   \n",
       "2 -0.920542   -0.273622 -0.037446 -0.300388              -0.242558   \n",
       "3 -1.316004   -0.322158 -0.280847 -0.081293              -0.242558   \n",
       "4 -0.920542   -0.144386 -0.037446 -0.232123              -0.242558   \n",
       "\n",
       "   Views_per_Answer  Views_per_Reputation  Views_Scale  Reputation_Scale  \\\n",
       "0         -0.302833             -0.303161    -0.302865         -0.160349   \n",
       "1          0.250135              0.249717     0.251901          0.821311   \n",
       "2         -0.300388             -0.300557    -0.298931         -0.273874   \n",
       "3         -0.081293             -0.080968    -0.082533         -0.320620   \n",
       "4         -0.232123             -0.231990    -0.232044         -0.143654   \n",
       "\n",
       "   Answers_Scale  \n",
       "0      -0.524201  \n",
       "1       1.910752  \n",
       "2      -0.039231  \n",
       "3      -0.281716  \n",
       "4      -0.039231  "
      ]
     },
     "execution_count": 281,
     "metadata": {},
     "output_type": "execute_result"
    }
   ],
   "source": [
    "train_dataset_normalized.head()"
   ]
  },
  {
   "cell_type": "code",
   "execution_count": 282,
   "metadata": {},
   "outputs": [],
   "source": [
    "from sklearn.ensemble import RandomForestRegressor\n",
    "from sklearn import tree\n",
    "from sklearn.tree import DecisionTreeRegressor\n",
    "from sklearn.ensemble import RandomForestRegressor"
   ]
  },
  {
   "cell_type": "code",
   "execution_count": 283,
   "metadata": {},
   "outputs": [],
   "source": [
    "feature_cols = ['Reputation', 'Answers', 'Views', 'Total_Answers_by_User', 'Views_per_Answer', 'Views_per_Reputation', \\\n",
    "                'Views_Scale', 'Reputation_Scale', 'Answers_Scale']\n",
    "X = train_dataset_normalized [feature_cols]\n",
    "y = label\n",
    "X_train_ds, X_validate_ds, y_train, y_validate = train_test_split(X, y, test_size=0.33)\n",
    "\n",
    "X_train = X_train_ds.values\n",
    "X_validate = X_validate_ds.values"
   ]
  },
  {
   "cell_type": "code",
   "execution_count": 284,
   "metadata": {},
   "outputs": [],
   "source": [
    "model = tree.DecisionTreeRegressor(random_state = 123)\n",
    "#model = model.fit(X_train, y_train)\n"
   ]
  },
  {
   "cell_type": "code",
   "execution_count": 285,
   "metadata": {},
   "outputs": [
    {
     "data": {
      "text/plain": [
       "{'max_depth': 25, 'min_samples_split': 5}"
      ]
     },
     "execution_count": 285,
     "metadata": {},
     "output_type": "execute_result"
    }
   ],
   "source": [
    "# Tune the hyper parameter\n",
    "params = {\"max_depth\": [3, 25], \"min_samples_split\": [5,50]}\n",
    "from sklearn.grid_search import GridSearchCV\n",
    "grid=GridSearchCV(model,params, cv = 5)\n",
    "grid_model = grid.fit(X_train,y_train)\n",
    "grid_model.best_params_\n"
   ]
  },
  {
   "cell_type": "code",
   "execution_count": 286,
   "metadata": {},
   "outputs": [],
   "source": [
    "grid_pred=grid_model.predict(X_validate)"
   ]
  },
  {
   "cell_type": "code",
   "execution_count": 287,
   "metadata": {},
   "outputs": [
    {
     "name": "stdout",
     "output_type": "stream",
     "text": [
      "0.9845081253900214\n",
      "0.3613913265087011\n"
     ]
    }
   ],
   "source": [
    "#The feature_importances_ attribute make it simple to interpret the significance of the predictors you include\n",
    "print(grid_model.score(X_train, y_train))\n",
    "print(grid_model.score(X_validate, y_validate))\n"
   ]
  },
  {
   "cell_type": "code",
   "execution_count": 288,
   "metadata": {},
   "outputs": [
    {
     "ename": "AttributeError",
     "evalue": "'GridSearchCV' object has no attribute 'feature_importances_'",
     "output_type": "error",
     "traceback": [
      "\u001b[1;31m---------------------------------------------------------------------------\u001b[0m",
      "\u001b[1;31mAttributeError\u001b[0m                            Traceback (most recent call last)",
      "\u001b[1;32m<ipython-input-288-8f9e97003420>\u001b[0m in \u001b[0;36m<module>\u001b[1;34m()\u001b[0m\n\u001b[1;32m----> 1\u001b[1;33m \u001b[0mlist\u001b[0m\u001b[1;33m(\u001b[0m\u001b[0mzip\u001b[0m\u001b[1;33m(\u001b[0m\u001b[0mfeature_cols\u001b[0m\u001b[1;33m,\u001b[0m \u001b[0mgrid_model\u001b[0m\u001b[1;33m.\u001b[0m\u001b[0mfeature_importances_\u001b[0m\u001b[1;33m)\u001b[0m\u001b[1;33m)\u001b[0m\u001b[1;33m\u001b[0m\u001b[0m\n\u001b[0m",
      "\u001b[1;31mAttributeError\u001b[0m: 'GridSearchCV' object has no attribute 'feature_importances_'"
     ]
    }
   ],
   "source": [
    "list(zip(feature_cols, grid_model.feature_importances_))"
   ]
  },
  {
   "cell_type": "code",
   "execution_count": 289,
   "metadata": {},
   "outputs": [
    {
     "ename": "NotFittedError",
     "evalue": "This GridSearchCV instance is not fitted yet. Call 'fit' with appropriate arguments before using this method.",
     "output_type": "error",
     "traceback": [
      "\u001b[1;31m---------------------------------------------------------------------------\u001b[0m",
      "\u001b[1;31mNotFittedError\u001b[0m                            Traceback (most recent call last)",
      "\u001b[1;32m<ipython-input-289-cec2e0118c0b>\u001b[0m in \u001b[0;36m<module>\u001b[1;34m()\u001b[0m\n\u001b[0;32m      1\u001b[0m \u001b[1;31m#Check the decision tree\u001b[0m\u001b[1;33m\u001b[0m\u001b[1;33m\u001b[0m\u001b[0m\n\u001b[0;32m      2\u001b[0m \u001b[1;32mwith\u001b[0m \u001b[0mopen\u001b[0m\u001b[1;33m(\u001b[0m\u001b[1;34m\"Enigma.dot\"\u001b[0m\u001b[1;33m,\u001b[0m \u001b[1;34m'w'\u001b[0m\u001b[1;33m)\u001b[0m \u001b[1;32mas\u001b[0m \u001b[0mf\u001b[0m\u001b[1;33m:\u001b[0m\u001b[1;33m\u001b[0m\u001b[0m\n\u001b[1;32m----> 3\u001b[1;33m     \u001b[0mf\u001b[0m \u001b[1;33m=\u001b[0m \u001b[0mtree\u001b[0m\u001b[1;33m.\u001b[0m\u001b[0mexport_graphviz\u001b[0m\u001b[1;33m(\u001b[0m\u001b[0mgrid_model\u001b[0m\u001b[1;33m,\u001b[0m \u001b[0mout_file\u001b[0m\u001b[1;33m=\u001b[0m\u001b[0mf\u001b[0m\u001b[1;33m,\u001b[0m \u001b[0mfeature_names\u001b[0m \u001b[1;33m=\u001b[0m \u001b[0mfeature_cols\u001b[0m\u001b[1;33m)\u001b[0m\u001b[1;33m\u001b[0m\u001b[0m\n\u001b[0m\u001b[0;32m      4\u001b[0m \u001b[1;31m# visit http://webgraphviz.com to visualize the tree\u001b[0m\u001b[1;33m\u001b[0m\u001b[1;33m\u001b[0m\u001b[0m\n",
      "\u001b[1;32m~\\Anaconda3\\lib\\site-packages\\sklearn\\tree\\export.py\u001b[0m in \u001b[0;36mexport_graphviz\u001b[1;34m(decision_tree, out_file, max_depth, feature_names, class_names, label, filled, leaves_parallel, impurity, node_ids, proportion, rotate, rounded, special_characters, precision)\u001b[0m\n\u001b[0;32m    390\u001b[0m                 \u001b[0mout_file\u001b[0m\u001b[1;33m.\u001b[0m\u001b[0mwrite\u001b[0m\u001b[1;33m(\u001b[0m\u001b[1;34m'%d -> %d ;\\n'\u001b[0m \u001b[1;33m%\u001b[0m \u001b[1;33m(\u001b[0m\u001b[0mparent\u001b[0m\u001b[1;33m,\u001b[0m \u001b[0mnode_id\u001b[0m\u001b[1;33m)\u001b[0m\u001b[1;33m)\u001b[0m\u001b[1;33m\u001b[0m\u001b[0m\n\u001b[0;32m    391\u001b[0m \u001b[1;33m\u001b[0m\u001b[0m\n\u001b[1;32m--> 392\u001b[1;33m     \u001b[0mcheck_is_fitted\u001b[0m\u001b[1;33m(\u001b[0m\u001b[0mdecision_tree\u001b[0m\u001b[1;33m,\u001b[0m \u001b[1;34m'tree_'\u001b[0m\u001b[1;33m)\u001b[0m\u001b[1;33m\u001b[0m\u001b[0m\n\u001b[0m\u001b[0;32m    393\u001b[0m     \u001b[0mown_file\u001b[0m \u001b[1;33m=\u001b[0m \u001b[1;32mFalse\u001b[0m\u001b[1;33m\u001b[0m\u001b[0m\n\u001b[0;32m    394\u001b[0m     \u001b[0mreturn_string\u001b[0m \u001b[1;33m=\u001b[0m \u001b[1;32mFalse\u001b[0m\u001b[1;33m\u001b[0m\u001b[0m\n",
      "\u001b[1;32m~\\Anaconda3\\lib\\site-packages\\sklearn\\utils\\validation.py\u001b[0m in \u001b[0;36mcheck_is_fitted\u001b[1;34m(estimator, attributes, msg, all_or_any)\u001b[0m\n\u001b[0;32m    766\u001b[0m \u001b[1;33m\u001b[0m\u001b[0m\n\u001b[0;32m    767\u001b[0m     \u001b[1;32mif\u001b[0m \u001b[1;32mnot\u001b[0m \u001b[0mall_or_any\u001b[0m\u001b[1;33m(\u001b[0m\u001b[1;33m[\u001b[0m\u001b[0mhasattr\u001b[0m\u001b[1;33m(\u001b[0m\u001b[0mestimator\u001b[0m\u001b[1;33m,\u001b[0m \u001b[0mattr\u001b[0m\u001b[1;33m)\u001b[0m \u001b[1;32mfor\u001b[0m \u001b[0mattr\u001b[0m \u001b[1;32min\u001b[0m \u001b[0mattributes\u001b[0m\u001b[1;33m]\u001b[0m\u001b[1;33m)\u001b[0m\u001b[1;33m:\u001b[0m\u001b[1;33m\u001b[0m\u001b[0m\n\u001b[1;32m--> 768\u001b[1;33m         \u001b[1;32mraise\u001b[0m \u001b[0mNotFittedError\u001b[0m\u001b[1;33m(\u001b[0m\u001b[0mmsg\u001b[0m \u001b[1;33m%\u001b[0m \u001b[1;33m{\u001b[0m\u001b[1;34m'name'\u001b[0m\u001b[1;33m:\u001b[0m \u001b[0mtype\u001b[0m\u001b[1;33m(\u001b[0m\u001b[0mestimator\u001b[0m\u001b[1;33m)\u001b[0m\u001b[1;33m.\u001b[0m\u001b[0m__name__\u001b[0m\u001b[1;33m}\u001b[0m\u001b[1;33m)\u001b[0m\u001b[1;33m\u001b[0m\u001b[0m\n\u001b[0m\u001b[0;32m    769\u001b[0m \u001b[1;33m\u001b[0m\u001b[0m\n\u001b[0;32m    770\u001b[0m \u001b[1;33m\u001b[0m\u001b[0m\n",
      "\u001b[1;31mNotFittedError\u001b[0m: This GridSearchCV instance is not fitted yet. Call 'fit' with appropriate arguments before using this method."
     ]
    }
   ],
   "source": [
    "#Check the decision tree\n",
    "with open(\"Enigma.dot\", 'w') as f:\n",
    "    f = tree.export_graphviz(grid_model, out_file=f, feature_names = feature_cols)\n",
    "# visit http://webgraphviz.com to visualize the tree\n"
   ]
  },
  {
   "cell_type": "code",
   "execution_count": 290,
   "metadata": {},
   "outputs": [
    {
     "data": {
      "text/plain": [
       "array([  79.75      ,   94.75      ,   71.        ,   35.        ,\n",
       "        871.33333333,   29.66666667,   54.        ,   81.        ,\n",
       "        156.        ,   51.        ,   16.33333333,   71.        ,\n",
       "          9.25      ,  381.        ,  224.75      ,  117.25      ,\n",
       "         60.        ,   79.75      ,  871.33333333,    9.25      ,\n",
       "         71.        ,   79.75      ,   54.        ,   51.        ,\n",
       "         60.        ,   51.        ,   94.75      ,  803.5       ,\n",
       "         16.33333333,    8.5       ,  141.        ,   51.        ,\n",
       "         71.        ,  141.        ,    9.25      ,   71.        ,\n",
       "          8.5       ,   38.        ,   71.        ,   29.66666667,\n",
       "         73.66666667, 2281.5       ,    8.5       ,  156.        ,\n",
       "         16.33333333,   79.75      ,   71.        , 2281.5       ,\n",
       "         16.33333333,    9.25      ,  251.        ,  803.5       ,\n",
       "         30.        ,   12.75      ,   19.5       ,   24.66666667,\n",
       "        381.        ,  156.        ,  141.        ,   16.33333333,\n",
       "         19.5       ,  141.        ,   60.        ,   71.        ,\n",
       "         38.        ,   79.75      ,  156.        ,   38.        ,\n",
       "        803.5       ,   38.        , 2322.33333333,   38.        ,\n",
       "          9.25      ,   16.33333333,    4.25      ,   79.75      ,\n",
       "         26.        ,   29.66666667,   16.33333333,    9.25      ,\n",
       "        871.33333333,   54.        ,   24.66666667,   31.        ,\n",
       "         38.        ,   16.33333333,    9.25      ,   60.        ,\n",
       "        156.        ,   12.75      , 1440.        ,   16.33333333,\n",
       "        224.75      ,   60.        ,   26.33333333,   79.75      ,\n",
       "         31.        ,   79.75      ,   31.        ,   19.5       ,\n",
       "       2322.33333333,   79.75      , 2281.5       ,   71.        ,\n",
       "        156.        ,   71.        ,   45.        ,   54.        ,\n",
       "         12.75      ,   31.        ,  141.        ,   16.33333333,\n",
       "         19.        ,   54.        ,  156.        ,  224.75      ,\n",
       "         16.33333333,  381.        ,   16.33333333,   60.        ,\n",
       "         94.75      ,    9.25      ,   41.33333333,   45.        ,\n",
       "         16.33333333,  871.33333333,   79.75      ,   30.        ,\n",
       "        803.5       ,   19.5       ,   12.75      ,   12.75      ,\n",
       "          9.25      ,    8.5       ,  251.        ,   44.        ,\n",
       "         16.33333333,   16.33333333,  803.5       ,    9.25      ,\n",
       "         51.        ,  224.75      ,   19.5       ,   79.75      ,\n",
       "          4.25      ,   54.        ,   79.75      ,  381.        ,\n",
       "          9.25      ,    8.5       ,   45.        ,   30.        ,\n",
       "        141.        ,   79.75      ,   30.        ,   31.        ,\n",
       "          9.25      ,  367.33333333, 1633.        ,   35.        ,\n",
       "         26.        ,  117.25      ,   30.        ,   81.        ,\n",
       "         79.75      ,   30.        ,  141.        ,  156.        ,\n",
       "         54.        ,    4.25      ,   41.33333333,  156.        ,\n",
       "          8.5       ,   54.        ,  251.        ,  224.75      ,\n",
       "        156.        ,   19.5       ,    8.5       ,   71.        ,\n",
       "         24.66666667,   44.        ,    9.25      ,   94.75      ,\n",
       "         19.5       ,   79.75      ,   16.33333333,   19.5       ,\n",
       "         16.33333333,  803.5       , 1440.        ,   31.        ,\n",
       "        803.5       ,   30.        ,    8.5       ,  251.        ,\n",
       "         30.        ,   41.33333333,   16.33333333])"
      ]
     },
     "execution_count": 290,
     "metadata": {},
     "output_type": "execute_result"
    }
   ],
   "source": [
    "pred = grid_model.predict(X_validate)\n",
    "pred_test = grid_model.predict(test_dataset_normalized[['Reputation', 'Answers', 'Views', 'Total_Answers_by_User', \\\n",
    "            'Views_per_Answer', 'Views_per_Reputation', 'Views_Scale', 'Reputation_Scale', 'Answers_Scale']].values)\n",
    "pred_test"
   ]
  },
  {
   "cell_type": "code",
   "execution_count": 291,
   "metadata": {},
   "outputs": [],
   "source": [
    "test_dataset['Upvotes'] = pred_test"
   ]
  },
  {
   "cell_type": "code",
   "execution_count": 292,
   "metadata": {},
   "outputs": [
    {
     "name": "stdout",
     "output_type": "stream",
     "text": [
      "0.8737205904092086\n",
      "0.5226699886757504\n",
      "RMSE: 1067.089218978716\n",
      "[0.16179421 0.11040709 0.07137432 0.16872778 0.10171382 0.09950816\n",
      " 0.09320559 0.09459237 0.09867664]\n"
     ]
    },
    {
     "name": "stderr",
     "output_type": "stream",
     "text": [
      "[Parallel(n_jobs=1)]: Done  25 out of  25 | elapsed:    0.0s finished\n",
      "[Parallel(n_jobs=1)]: Done  25 out of  25 | elapsed:    0.0s finished\n",
      "[Parallel(n_jobs=1)]: Done  25 out of  25 | elapsed:    0.0s finished\n",
      "[Parallel(n_jobs=1)]: Done  25 out of  25 | elapsed:    0.0s finished\n"
     ]
    },
    {
     "data": {
      "text/plain": [
       "[('Reputation', 0.16179421273127617),\n",
       " ('Answers', 0.11040708898788867),\n",
       " ('Views', 0.07137432436891547),\n",
       " ('Total_Answers_by_User', 0.16872777929742022),\n",
       " ('Views_per_Answer', 0.10171382462868327),\n",
       " ('Views_per_Reputation', 0.09950816352983669),\n",
       " ('Views_Scale', 0.09320558965785172),\n",
       " ('Reputation_Scale', 0.09459237324720511),\n",
       " ('Answers_Scale', 0.09867664355092273)]"
      ]
     },
     "execution_count": 292,
     "metadata": {},
     "output_type": "execute_result"
    }
   ],
   "source": [
    "from sklearn.ensemble import RandomForestRegressor\n",
    "from sklearn.metrics import mean_squared_error\n",
    "import math\n",
    "\n",
    "forest = RandomForestRegressor(n_estimators = 25, random_state = 100, verbose=1)\n",
    "my_forest = forest.fit(X_train, y_train)\n",
    "print(my_forest.score(X_train, y_train))\n",
    "\n",
    "y_predict  = my_forest.predict(X_validate)\n",
    "print(my_forest.score(X_validate, y_validate))\n",
    "rmse = math.sqrt(mean_squared_error(y_validate, y_predict))\n",
    "print('RMSE:' , rmse)\n",
    "\n",
    "print(my_forest.feature_importances_)\n",
    "list(zip(feature_cols, my_forest.feature_importances_))"
   ]
  },
  {
   "cell_type": "code",
   "execution_count": 293,
   "metadata": {},
   "outputs": [],
   "source": [
    "# Output the Dataframe into a CSV file\n",
    "test_dataset[['ID', 'Upvotes']].to_csv('Submission_Anupam_RF.csv',  index = False)"
   ]
  }
 ],
 "metadata": {
  "kernelspec": {
   "display_name": "Python 3",
   "language": "python",
   "name": "python3"
  },
  "language_info": {
   "codemirror_mode": {
    "name": "ipython",
    "version": 3
   },
   "file_extension": ".py",
   "mimetype": "text/x-python",
   "name": "python",
   "nbconvert_exporter": "python",
   "pygments_lexer": "ipython3",
   "version": "3.6.4"
  }
 },
 "nbformat": 4,
 "nbformat_minor": 2
}
