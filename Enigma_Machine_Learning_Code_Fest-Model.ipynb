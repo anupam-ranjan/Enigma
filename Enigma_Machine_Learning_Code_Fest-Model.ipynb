{
 "cells": [
  {
   "cell_type": "markdown",
   "metadata": {},
   "source": [
    "# <Center> Enigma Machine Learning Code Fest - Model Development</Center>"
   ]
  },
  {
   "cell_type": "code",
   "execution_count": 20,
   "metadata": {},
   "outputs": [],
   "source": [
    "import os\n",
    "os.chdir('E:/Anupam/HomeDocs/DataScience/UpX-Academy/Hackathon/Enigma/Dataset/')\n",
    "import warnings\n",
    "warnings.filterwarnings(\"ignore\")\n",
    "warnings.filterwarnings(\"ignore\", category=DeprecationWarning)"
   ]
  },
  {
   "cell_type": "code",
   "execution_count": 2,
   "metadata": {},
   "outputs": [
    {
     "name": "stderr",
     "output_type": "stream",
     "text": [
      "C:\\Users\\Anupam\\Anaconda3\\lib\\site-packages\\sklearn\\cross_validation.py:41: DeprecationWarning: This module was deprecated in version 0.18 in favor of the model_selection module into which all the refactored classes and functions are moved. Also note that the interface of the new CV iterators are different from that of this module. This module will be removed in 0.20.\n",
      "  \"This module will be removed in 0.20.\", DeprecationWarning)\n"
     ]
    }
   ],
   "source": [
    "import numpy as np\n",
    "import pandas as pd\n",
    "import matplotlib.pyplot as plt\n",
    "import seaborn as sns\n",
    "from sklearn import metrics\n",
    "from sklearn.cross_validation import train_test_split\n",
    "from sklearn.metrics import confusion_matrix,accuracy_score\n",
    "#PCA\n",
    "from sklearn.cross_validation import cross_val_score\n",
    "from sklearn.preprocessing import LabelEncoder\n",
    "from sklearn.decomposition import PCA"
   ]
  },
  {
   "cell_type": "code",
   "execution_count": 3,
   "metadata": {},
   "outputs": [
    {
     "data": {
      "text/html": [
       "<div>\n",
       "<style scoped>\n",
       "    .dataframe tbody tr th:only-of-type {\n",
       "        vertical-align: middle;\n",
       "    }\n",
       "\n",
       "    .dataframe tbody tr th {\n",
       "        vertical-align: top;\n",
       "    }\n",
       "\n",
       "    .dataframe thead th {\n",
       "        text-align: right;\n",
       "    }\n",
       "</style>\n",
       "<table border=\"1\" class=\"dataframe\">\n",
       "  <thead>\n",
       "    <tr style=\"text-align: right;\">\n",
       "      <th></th>\n",
       "      <th>ID</th>\n",
       "      <th>Reputation</th>\n",
       "      <th>Answers</th>\n",
       "      <th>Username</th>\n",
       "      <th>Views</th>\n",
       "      <th>Upvotes</th>\n",
       "      <th>Total_Answers_by_User</th>\n",
       "      <th>Tag_c</th>\n",
       "      <th>Tag_h</th>\n",
       "      <th>Tag_i</th>\n",
       "      <th>...</th>\n",
       "      <th>Tag_o</th>\n",
       "      <th>Tag_p</th>\n",
       "      <th>Tag_r</th>\n",
       "      <th>Tag_s</th>\n",
       "      <th>Tag_x</th>\n",
       "      <th>Views_per_Answer</th>\n",
       "      <th>Views_per_Reputation</th>\n",
       "      <th>Views_Scale</th>\n",
       "      <th>Reputation_Scale</th>\n",
       "      <th>Answers_Scale</th>\n",
       "    </tr>\n",
       "  </thead>\n",
       "  <tbody>\n",
       "    <tr>\n",
       "      <th>0</th>\n",
       "      <td>52664</td>\n",
       "      <td>3942</td>\n",
       "      <td>2</td>\n",
       "      <td>155623</td>\n",
       "      <td>7855</td>\n",
       "      <td>42</td>\n",
       "      <td>0.0</td>\n",
       "      <td>0</td>\n",
       "      <td>0</td>\n",
       "      <td>0</td>\n",
       "      <td>...</td>\n",
       "      <td>0</td>\n",
       "      <td>0</td>\n",
       "      <td>0</td>\n",
       "      <td>0</td>\n",
       "      <td>0</td>\n",
       "      <td>1891.02</td>\n",
       "      <td>1.04</td>\n",
       "      <td>0.23</td>\n",
       "      <td>0.52</td>\n",
       "      <td>0.48</td>\n",
       "    </tr>\n",
       "    <tr>\n",
       "      <th>1</th>\n",
       "      <td>327662</td>\n",
       "      <td>26046</td>\n",
       "      <td>12</td>\n",
       "      <td>21781</td>\n",
       "      <td>55801</td>\n",
       "      <td>1175</td>\n",
       "      <td>12.0</td>\n",
       "      <td>0</td>\n",
       "      <td>0</td>\n",
       "      <td>0</td>\n",
       "      <td>...</td>\n",
       "      <td>0</td>\n",
       "      <td>0</td>\n",
       "      <td>0</td>\n",
       "      <td>0</td>\n",
       "      <td>0</td>\n",
       "      <td>13433.57</td>\n",
       "      <td>7.41</td>\n",
       "      <td>1.64</td>\n",
       "      <td>3.46</td>\n",
       "      <td>2.89</td>\n",
       "    </tr>\n",
       "    <tr>\n",
       "      <th>2</th>\n",
       "      <td>468453</td>\n",
       "      <td>1358</td>\n",
       "      <td>4</td>\n",
       "      <td>56177</td>\n",
       "      <td>8067</td>\n",
       "      <td>60</td>\n",
       "      <td>0.0</td>\n",
       "      <td>1</td>\n",
       "      <td>0</td>\n",
       "      <td>0</td>\n",
       "      <td>...</td>\n",
       "      <td>0</td>\n",
       "      <td>0</td>\n",
       "      <td>0</td>\n",
       "      <td>0</td>\n",
       "      <td>0</td>\n",
       "      <td>1942.06</td>\n",
       "      <td>1.07</td>\n",
       "      <td>0.24</td>\n",
       "      <td>0.18</td>\n",
       "      <td>0.96</td>\n",
       "    </tr>\n",
       "    <tr>\n",
       "      <th>3</th>\n",
       "      <td>96996</td>\n",
       "      <td>264</td>\n",
       "      <td>3</td>\n",
       "      <td>168793</td>\n",
       "      <td>27064</td>\n",
       "      <td>9</td>\n",
       "      <td>0.0</td>\n",
       "      <td>0</td>\n",
       "      <td>0</td>\n",
       "      <td>0</td>\n",
       "      <td>...</td>\n",
       "      <td>0</td>\n",
       "      <td>0</td>\n",
       "      <td>0</td>\n",
       "      <td>0</td>\n",
       "      <td>0</td>\n",
       "      <td>6515.41</td>\n",
       "      <td>3.60</td>\n",
       "      <td>0.79</td>\n",
       "      <td>0.04</td>\n",
       "      <td>0.72</td>\n",
       "    </tr>\n",
       "    <tr>\n",
       "      <th>4</th>\n",
       "      <td>131465</td>\n",
       "      <td>4271</td>\n",
       "      <td>4</td>\n",
       "      <td>112223</td>\n",
       "      <td>13986</td>\n",
       "      <td>83</td>\n",
       "      <td>0.0</td>\n",
       "      <td>1</td>\n",
       "      <td>0</td>\n",
       "      <td>0</td>\n",
       "      <td>...</td>\n",
       "      <td>0</td>\n",
       "      <td>0</td>\n",
       "      <td>0</td>\n",
       "      <td>0</td>\n",
       "      <td>0</td>\n",
       "      <td>3367.00</td>\n",
       "      <td>1.86</td>\n",
       "      <td>0.41</td>\n",
       "      <td>0.57</td>\n",
       "      <td>0.96</td>\n",
       "    </tr>\n",
       "  </tbody>\n",
       "</table>\n",
       "<p>5 rows × 21 columns</p>\n",
       "</div>"
      ],
      "text/plain": [
       "       ID  Reputation  Answers  Username  Views  Upvotes  \\\n",
       "0   52664        3942        2    155623   7855       42   \n",
       "1  327662       26046       12     21781  55801     1175   \n",
       "2  468453        1358        4     56177   8067       60   \n",
       "3   96996         264        3    168793  27064        9   \n",
       "4  131465        4271        4    112223  13986       83   \n",
       "\n",
       "   Total_Answers_by_User  Tag_c  Tag_h  Tag_i      ...        Tag_o  Tag_p  \\\n",
       "0                    0.0      0      0      0      ...            0      0   \n",
       "1                   12.0      0      0      0      ...            0      0   \n",
       "2                    0.0      1      0      0      ...            0      0   \n",
       "3                    0.0      0      0      0      ...            0      0   \n",
       "4                    0.0      1      0      0      ...            0      0   \n",
       "\n",
       "   Tag_r  Tag_s  Tag_x  Views_per_Answer  Views_per_Reputation  Views_Scale  \\\n",
       "0      0      0      0           1891.02                  1.04         0.23   \n",
       "1      0      0      0          13433.57                  7.41         1.64   \n",
       "2      0      0      0           1942.06                  1.07         0.24   \n",
       "3      0      0      0           6515.41                  3.60         0.79   \n",
       "4      0      0      0           3367.00                  1.86         0.41   \n",
       "\n",
       "   Reputation_Scale  Answers_Scale  \n",
       "0              0.52           0.48  \n",
       "1              3.46           2.89  \n",
       "2              0.18           0.96  \n",
       "3              0.04           0.72  \n",
       "4              0.57           0.96  \n",
       "\n",
       "[5 rows x 21 columns]"
      ]
     },
     "execution_count": 3,
     "metadata": {},
     "output_type": "execute_result"
    }
   ],
   "source": [
    "train_dataset = pd.read_csv ('train_EDA.csv')\n",
    "test_dataset = pd.read_csv ('test_EDA.csv')\n",
    "train_dataset.head()"
   ]
  },
  {
   "cell_type": "code",
   "execution_count": 4,
   "metadata": {},
   "outputs": [
    {
     "name": "stdout",
     "output_type": "stream",
     "text": [
      "<class 'pandas.core.frame.DataFrame'>\n",
      "RangeIndex: 299 entries, 0 to 298\n",
      "Data columns (total 21 columns):\n",
      "ID                       299 non-null int64\n",
      "Reputation               299 non-null int64\n",
      "Answers                  299 non-null int64\n",
      "Username                 299 non-null int64\n",
      "Views                    299 non-null int64\n",
      "Upvotes                  299 non-null int64\n",
      "Total_Answers_by_User    299 non-null float64\n",
      "Tag_c                    299 non-null int64\n",
      "Tag_h                    299 non-null int64\n",
      "Tag_i                    299 non-null int64\n",
      "Tag_j                    299 non-null int64\n",
      "Tag_o                    299 non-null int64\n",
      "Tag_p                    299 non-null int64\n",
      "Tag_r                    299 non-null int64\n",
      "Tag_s                    299 non-null int64\n",
      "Tag_x                    299 non-null int64\n",
      "Views_per_Answer         299 non-null float64\n",
      "Views_per_Reputation     299 non-null float64\n",
      "Views_Scale              299 non-null float64\n",
      "Reputation_Scale         299 non-null float64\n",
      "Answers_Scale            299 non-null float64\n",
      "dtypes: float64(6), int64(15)\n",
      "memory usage: 49.1 KB\n"
     ]
    },
    {
     "data": {
      "text/plain": [
       "Series([], dtype: float64)"
      ]
     },
     "execution_count": 4,
     "metadata": {},
     "output_type": "execute_result"
    }
   ],
   "source": [
    "train_dataset.info()\n",
    "train_dataset[train_dataset.columns[train_dataset.isnull().any()]].isnull().sum()"
   ]
  },
  {
   "cell_type": "markdown",
   "metadata": {},
   "source": [
    "## Normalize the dataframe"
   ]
  },
  {
   "cell_type": "code",
   "execution_count": 5,
   "metadata": {},
   "outputs": [
    {
     "data": {
      "text/html": [
       "<div>\n",
       "<style scoped>\n",
       "    .dataframe tbody tr th:only-of-type {\n",
       "        vertical-align: middle;\n",
       "    }\n",
       "\n",
       "    .dataframe tbody tr th {\n",
       "        vertical-align: top;\n",
       "    }\n",
       "\n",
       "    .dataframe thead th {\n",
       "        text-align: right;\n",
       "    }\n",
       "</style>\n",
       "<table border=\"1\" class=\"dataframe\">\n",
       "  <thead>\n",
       "    <tr style=\"text-align: right;\">\n",
       "      <th></th>\n",
       "      <th>Reputation</th>\n",
       "      <th>Answers</th>\n",
       "      <th>Views</th>\n",
       "      <th>Total_Answers_by_User</th>\n",
       "      <th>Tag_c</th>\n",
       "      <th>Tag_h</th>\n",
       "      <th>Tag_i</th>\n",
       "      <th>Tag_j</th>\n",
       "      <th>Tag_o</th>\n",
       "      <th>Tag_p</th>\n",
       "      <th>Tag_r</th>\n",
       "      <th>Tag_s</th>\n",
       "      <th>Tag_x</th>\n",
       "      <th>Views_per_Answer</th>\n",
       "      <th>Views_per_Reputation</th>\n",
       "      <th>Views_Scale</th>\n",
       "      <th>Reputation_Scale</th>\n",
       "      <th>Answers_Scale</th>\n",
       "    </tr>\n",
       "  </thead>\n",
       "  <tbody>\n",
       "    <tr>\n",
       "      <th>0</th>\n",
       "      <td>-0.158982</td>\n",
       "      <td>-0.524248</td>\n",
       "      <td>-0.302833</td>\n",
       "      <td>-0.242558</td>\n",
       "      <td>-0.521862</td>\n",
       "      <td>-0.260494</td>\n",
       "      <td>-0.327731</td>\n",
       "      <td>-0.532223</td>\n",
       "      <td>-0.221637</td>\n",
       "      <td>-0.358193</td>\n",
       "      <td>-0.213201</td>\n",
       "      <td>-0.26774</td>\n",
       "      <td>-0.100673</td>\n",
       "      <td>-0.302833</td>\n",
       "      <td>-0.303161</td>\n",
       "      <td>-0.302865</td>\n",
       "      <td>-0.160349</td>\n",
       "      <td>-0.524201</td>\n",
       "    </tr>\n",
       "    <tr>\n",
       "      <th>1</th>\n",
       "      <td>0.821670</td>\n",
       "      <td>1.909761</td>\n",
       "      <td>0.250135</td>\n",
       "      <td>2.573945</td>\n",
       "      <td>-0.521862</td>\n",
       "      <td>-0.260494</td>\n",
       "      <td>-0.327731</td>\n",
       "      <td>-0.532223</td>\n",
       "      <td>-0.221637</td>\n",
       "      <td>-0.358193</td>\n",
       "      <td>-0.213201</td>\n",
       "      <td>-0.26774</td>\n",
       "      <td>-0.100673</td>\n",
       "      <td>0.250135</td>\n",
       "      <td>0.249717</td>\n",
       "      <td>0.251901</td>\n",
       "      <td>0.821311</td>\n",
       "      <td>1.910752</td>\n",
       "    </tr>\n",
       "    <tr>\n",
       "      <th>2</th>\n",
       "      <td>-0.273622</td>\n",
       "      <td>-0.037446</td>\n",
       "      <td>-0.300388</td>\n",
       "      <td>-0.242558</td>\n",
       "      <td>1.916214</td>\n",
       "      <td>-0.260494</td>\n",
       "      <td>-0.327731</td>\n",
       "      <td>-0.532223</td>\n",
       "      <td>-0.221637</td>\n",
       "      <td>-0.358193</td>\n",
       "      <td>-0.213201</td>\n",
       "      <td>-0.26774</td>\n",
       "      <td>-0.100673</td>\n",
       "      <td>-0.300388</td>\n",
       "      <td>-0.300557</td>\n",
       "      <td>-0.298931</td>\n",
       "      <td>-0.273874</td>\n",
       "      <td>-0.039231</td>\n",
       "    </tr>\n",
       "    <tr>\n",
       "      <th>3</th>\n",
       "      <td>-0.322158</td>\n",
       "      <td>-0.280847</td>\n",
       "      <td>-0.081293</td>\n",
       "      <td>-0.242558</td>\n",
       "      <td>-0.521862</td>\n",
       "      <td>-0.260494</td>\n",
       "      <td>-0.327731</td>\n",
       "      <td>-0.532223</td>\n",
       "      <td>-0.221637</td>\n",
       "      <td>-0.358193</td>\n",
       "      <td>-0.213201</td>\n",
       "      <td>-0.26774</td>\n",
       "      <td>-0.100673</td>\n",
       "      <td>-0.081293</td>\n",
       "      <td>-0.080968</td>\n",
       "      <td>-0.082533</td>\n",
       "      <td>-0.320620</td>\n",
       "      <td>-0.281716</td>\n",
       "    </tr>\n",
       "    <tr>\n",
       "      <th>4</th>\n",
       "      <td>-0.144386</td>\n",
       "      <td>-0.037446</td>\n",
       "      <td>-0.232123</td>\n",
       "      <td>-0.242558</td>\n",
       "      <td>1.916214</td>\n",
       "      <td>-0.260494</td>\n",
       "      <td>-0.327731</td>\n",
       "      <td>-0.532223</td>\n",
       "      <td>-0.221637</td>\n",
       "      <td>-0.358193</td>\n",
       "      <td>-0.213201</td>\n",
       "      <td>-0.26774</td>\n",
       "      <td>-0.100673</td>\n",
       "      <td>-0.232123</td>\n",
       "      <td>-0.231990</td>\n",
       "      <td>-0.232044</td>\n",
       "      <td>-0.143654</td>\n",
       "      <td>-0.039231</td>\n",
       "    </tr>\n",
       "  </tbody>\n",
       "</table>\n",
       "</div>"
      ],
      "text/plain": [
       "   Reputation   Answers     Views  Total_Answers_by_User     Tag_c     Tag_h  \\\n",
       "0   -0.158982 -0.524248 -0.302833              -0.242558 -0.521862 -0.260494   \n",
       "1    0.821670  1.909761  0.250135               2.573945 -0.521862 -0.260494   \n",
       "2   -0.273622 -0.037446 -0.300388              -0.242558  1.916214 -0.260494   \n",
       "3   -0.322158 -0.280847 -0.081293              -0.242558 -0.521862 -0.260494   \n",
       "4   -0.144386 -0.037446 -0.232123              -0.242558  1.916214 -0.260494   \n",
       "\n",
       "      Tag_i     Tag_j     Tag_o     Tag_p     Tag_r    Tag_s     Tag_x  \\\n",
       "0 -0.327731 -0.532223 -0.221637 -0.358193 -0.213201 -0.26774 -0.100673   \n",
       "1 -0.327731 -0.532223 -0.221637 -0.358193 -0.213201 -0.26774 -0.100673   \n",
       "2 -0.327731 -0.532223 -0.221637 -0.358193 -0.213201 -0.26774 -0.100673   \n",
       "3 -0.327731 -0.532223 -0.221637 -0.358193 -0.213201 -0.26774 -0.100673   \n",
       "4 -0.327731 -0.532223 -0.221637 -0.358193 -0.213201 -0.26774 -0.100673   \n",
       "\n",
       "   Views_per_Answer  Views_per_Reputation  Views_Scale  Reputation_Scale  \\\n",
       "0         -0.302833             -0.303161    -0.302865         -0.160349   \n",
       "1          0.250135              0.249717     0.251901          0.821311   \n",
       "2         -0.300388             -0.300557    -0.298931         -0.273874   \n",
       "3         -0.081293             -0.080968    -0.082533         -0.320620   \n",
       "4         -0.232123             -0.231990    -0.232044         -0.143654   \n",
       "\n",
       "   Answers_Scale  \n",
       "0      -0.524201  \n",
       "1       1.910752  \n",
       "2      -0.039231  \n",
       "3      -0.281716  \n",
       "4      -0.039231  "
      ]
     },
     "execution_count": 5,
     "metadata": {},
     "output_type": "execute_result"
    }
   ],
   "source": [
    "from sklearn import preprocessing\n",
    "train_dataset_normalized = train_dataset.drop(['ID','Username', 'Upvotes'], axis=1)\n",
    "train_dataset_normalized = pd.DataFrame(preprocessing.scale(train_dataset_normalized), \\\n",
    "                                        columns = train_dataset_normalized.columns)\n",
    "\n",
    "# Normalize the test dataset also\n",
    "test_dataset_normalized = test_dataset.drop(['ID','Username'], axis=1)\n",
    "test_dataset_normalized = pd.DataFrame(preprocessing.scale(test_dataset_normalized), \\\n",
    "                                        columns = test_dataset_normalized.columns)\n",
    "train_dataset_normalized.head()"
   ]
  },
  {
   "cell_type": "markdown",
   "metadata": {},
   "source": [
    "### Split the dataset into train and validate"
   ]
  },
  {
   "cell_type": "code",
   "execution_count": 6,
   "metadata": {},
   "outputs": [],
   "source": [
    "feature_cols = ['Reputation', 'Answers', 'Views', 'Total_Answers_by_User', 'Views_per_Answer', 'Views_per_Reputation', \\\n",
    "                'Views_Scale', 'Reputation_Scale', 'Answers_Scale']\n",
    "X = train_dataset_normalized [feature_cols]\n",
    "y = train_dataset.Upvotes"
   ]
  },
  {
   "cell_type": "markdown",
   "metadata": {},
   "source": [
    "## Perform PCA analysis for Dimentionality Reduction"
   ]
  },
  {
   "cell_type": "code",
   "execution_count": 7,
   "metadata": {},
   "outputs": [],
   "source": [
    "#Get the output variable in the label separately\n",
    "label = y.values\n",
    "predictors = X.values"
   ]
  },
  {
   "cell_type": "code",
   "execution_count": 10,
   "metadata": {},
   "outputs": [
    {
     "data": {
      "text/plain": [
       "array([6.20414373e-01, 2.26741364e-01, 1.31264044e-01, 2.15797965e-02,\n",
       "       2.71079139e-07, 1.00800918e-07, 4.61948483e-08, 4.84897823e-09,\n",
       "       9.63497763e-16])"
      ]
     },
     "metadata": {},
     "output_type": "display_data"
    },
    {
     "data": {
      "text/plain": [
       "array([5.60246670e+00, 2.04752017e+00, 1.18534075e+00, 1.94869907e-01,\n",
       "       2.44789921e-06, 9.10252581e-07, 4.17148781e-07, 4.37872497e-08,\n",
       "       8.70057879e-15])"
      ]
     },
     "metadata": {},
     "output_type": "display_data"
    }
   ],
   "source": [
    "#Build the PCA model\n",
    "pca = PCA(n_components = len(X.columns))\n",
    "pca.fit_transform(predictors)\n",
    "variance_ratio = pca.explained_variance_ratio_\n",
    "display(variance_ratio)\n",
    "display(pca.explained_variance_)"
   ]
  },
  {
   "cell_type": "code",
   "execution_count": 11,
   "metadata": {},
   "outputs": [
    {
     "data": {
      "image/png": "[encoded data removed]",
      "text/plain": [
       "<matplotlib.figure.Figure at 0xbad91d0>"
      ]
     },
     "metadata": {},
     "output_type": "display_data"
    }
   ],
   "source": [
    "#Plot the Scree Plot\n",
    "#scree plot\n",
    "plt.figure(figsize=[10,5])\n",
    "features = range(pca.n_components_)\n",
    "plt.bar(features, pca.explained_variance_)\n",
    "plt.xlabel('PCA feature')\n",
    "plt.ylabel('variance')\n",
    "plt.xticks(features)\n",
    "plt.show()"
   ]
  },
  {
   "cell_type": "code",
   "execution_count": 12,
   "metadata": {},
   "outputs": [
    {
     "data": {
      "text/plain": [
       "array([ 62.04,  84.71,  97.84, 100.  , 100.  , 100.  , 100.  , 100.  ,\n",
       "       100.  ])"
      ]
     },
     "metadata": {},
     "output_type": "display_data"
    },
    {
     "data": {
      "text/plain": [
       "[<matplotlib.lines.Line2D at 0xbf44588>]"
      ]
     },
     "execution_count": 12,
     "metadata": {},
     "output_type": "execute_result"
    },
    {
     "data": {
      "image/png": "[encoded data removed]",
      "text/plain": [
       "<matplotlib.figure.Figure at 0xbad8940>"
      ]
     },
     "metadata": {},
     "output_type": "display_data"
    }
   ],
   "source": [
    "#Plot the cumulating sum of variance ratio\n",
    "variance_ratio_cum_sum = np.cumsum(np.round(pca.explained_variance_ratio_, decimals = 4) * 100)\n",
    "display(variance_ratio_cum_sum)\n",
    "plt.plot(variance_ratio_cum_sum)"
   ]
  },
  {
   "cell_type": "code",
   "execution_count": 13,
   "metadata": {},
   "outputs": [
    {
     "name": "stdout",
     "output_type": "stream",
     "text": [
      "[[ 4.42165871e-02 -2.43980939e-01 -3.00504928e-01 -3.18515640e-02]\n",
      " [-1.32315692e-01 -6.75400274e-02  1.94899820e+00 -2.01909142e-01]\n",
      " [-7.35849730e-01 -2.31070466e-01 -9.67085924e-01 -3.35286904e-01]\n",
      " [ 2.39858548e-01  1.25343556e+00  3.31111395e-02 -2.05960970e-01]\n",
      " [ 2.83795117e+00  2.95533966e+00  1.53213059e+00 -1.13254673e-01]\n",
      " [-1.16430869e+00 -8.31901383e-01 -5.40080779e-03 -3.93282854e-01]\n",
      " [-4.93121842e-02 -1.13602408e+00 -1.46824515e+00 -6.71482374e-01]\n",
      " [ 7.87240912e-01 -5.30995941e-01  8.96971772e-02 -3.67677276e-01]\n",
      " [-1.06844849e+00 -3.90169488e-01 -6.34126842e-01 -4.72363328e-01]\n",
      " [-4.07437281e-01  5.42504867e-01 -3.23366665e-01  2.23005627e+00]\n",
      " [-9.09085876e-01  1.83386223e-02 -7.07624807e-01  2.18098799e+00]\n",
      " [-5.03551516e-01 -4.07390663e-01 -1.15701506e+00 -5.14470083e-01]\n",
      " [-7.12544827e-01  2.20904281e-01 -2.94064191e-01 -1.21625131e-01]\n",
      " [ 4.58409297e+00  3.81488909e-01 -2.77996829e-01  2.18901643e+00]\n",
      " [ 1.79161391e+00  1.77955079e+00  1.65519912e+00 -2.42283235e-01]\n",
      " [-1.37492669e+00 -9.63104889e+00  1.25234903e+01  4.34338764e-01]\n",
      " [-5.21105294e-01 -3.19941817e-01  2.58882441e-01 -3.54038243e-01]\n",
      " [-3.28580295e-01 -5.69263999e-02 -2.01519126e-01 -2.02632859e-02]\n",
      " [ 3.02623171e+00  1.81796298e+00  1.01268170e+00 -1.18433450e+00]\n",
      " [-7.18650994e-01  6.04981065e-01 -2.38552845e-01 -1.26705308e+00]\n",
      " [-4.91237182e-01  4.35393842e-01 -5.33246927e-01 -2.79457540e-01]\n",
      " [-1.14705095e-01  2.12875213e-01 -5.96173793e-02 -9.90266924e-02]\n",
      " [-6.88885335e-01 -1.20437314e-01 -5.65773844e-01 -5.46386255e-02]\n",
      " [-6.53959028e-01  4.45652099e-01 -6.02004191e-01 -4.45289588e-01]\n",
      " [ 8.38272430e-01  2.40044501e+00  8.82322383e-01 -1.65175103e-01]\n",
      " [-1.68636782e-01  8.05242149e-01 -1.20510646e-01  2.25546020e+00]\n",
      " [-4.40989410e-01 -3.38004968e-01  9.42450880e-01  2.31383945e+00]\n",
      " [-2.50118522e-01  1.84195149e-01  6.99254286e-01 -1.19639424e+00]\n",
      " [-1.13882189e+00  3.67827212e-02 -6.40033146e-01 -1.31836372e+00]\n",
      " [-8.69985199e-01 -3.61960787e-02 -6.69100870e-01  2.18299194e+00]\n",
      " [ 2.64377387e-01 -2.36118196e-01 -5.24707929e-01 -4.96059965e-02]\n",
      " [-3.94365493e-01  4.48298471e-01 -4.33738838e-02  6.34151971e-03]\n",
      " [ 5.78679392e-01 -1.03938708e+00 -1.40960070e+00 -6.60866967e-01]\n",
      " [ 8.59410982e-01 -2.61978831e-01 -4.23263185e-01  2.20624372e+00]\n",
      " [-6.76323805e-01  2.85818763e-01 -5.05564860e-01  2.20642163e+00]\n",
      " [-3.83619387e-01 -3.48699427e-01  1.66030625e-01 -3.62021113e-01]\n",
      " [-1.32914517e-01 -1.11659852e+00 -1.41449937e+00 -6.66806890e-01]\n",
      " [-4.32080638e-01  7.53510261e-01 -2.34004702e-01 -2.45264483e-01]\n",
      " [-8.44955356e-01 -1.30352320e-01 -6.90489181e-01 -1.32568341e+00]\n",
      " [-9.16826011e-01 -1.13268363e-01 -5.15788078e-01  2.19372156e+00]\n",
      " [-9.36641097e-01 -2.61200711e-01 -1.40296481e-01 -4.26349315e-01]\n",
      " [ 1.15796099e+01 -2.86402097e+00 -1.31862951e+00 -5.71219760e-01]\n",
      " [-1.12709117e+00 -9.06007138e-02 -9.96946229e-01 -4.95449244e-01]\n",
      " [-7.37845122e-02 -1.26587982e-01 -1.50314811e-01 -2.59929621e-01]\n",
      " [-1.15453819e+00 -7.93007204e-02 -9.86196060e-01 -4.94368080e-01]\n",
      " [-5.54851635e-01 -6.41043572e-01 -6.10118468e-01 -2.43227216e-01]\n",
      " [-2.21724759e-02  1.03521956e+00  8.86087953e-02 -1.22439417e+00]\n",
      " [ 7.22342200e+00 -2.30155831e+00 -2.11090666e+00  2.03942303e+00]\n",
      " [-9.27284838e-01  1.28685866e-02 -6.82340206e-01  2.18289999e+00]\n",
      " [-6.77275191e-01  4.39306036e-01 -5.70537382e-01 -4.42900897e-01]\n",
      " [-3.48132905e-01 -7.98625931e-02  6.51651258e-01  5.14647799e-02]\n",
      " [ 9.30516179e-01  1.10242169e+00  2.41077982e+00  1.73755835e-01]\n",
      " [-1.23202266e+00  8.08804842e-03 -8.21612525e-01 -3.18959746e-01]\n",
      " [-2.81987098e-01  7.78853020e-01 -1.02821855e-01 -1.24875998e+00]\n",
      " [-9.76141296e-01 -3.50718869e-01 -7.67169089e-01 -7.92870641e-02]\n",
      " [-4.85975518e-01  5.98358496e-02 -8.14409353e-01 -3.13336906e-01]\n",
      " [ 2.57624810e+00 -1.30590445e+00 -1.26492833e+00 -1.29788488e-01]\n",
      " [-5.16449803e-01 -2.00735449e-01  8.89512666e-01 -2.97288927e-01]\n",
      " [ 4.46089101e-01 -2.80338127e-01 -7.99423177e-01  2.17180603e+00]\n",
      " [-9.18962892e-01  3.03754927e-01 -4.24767294e-01 -1.29188518e+00]\n",
      " [-1.06331361e+00 -4.98852597e-02 -9.03776304e-01 -3.26663932e-01]\n",
      " [ 1.35359482e+00  4.24572124e-01 -8.47301293e-02  1.06986717e-02]\n",
      " [ 9.42839098e-01  2.35270135e+00  1.15996277e+00 -1.15841012e+00]\n",
      " [-9.40455790e-02  3.49165613e-01 -1.95329095e-01 -7.74753367e-03]\n",
      " [-5.41126568e-01  5.03599892e-01 -2.68451778e-01 -1.27143661e+00]\n",
      " [-1.14863521e-01 -4.10136050e-01 -5.57495892e-01 -2.30450226e-01]\n",
      " [-9.46769335e-01 -1.36167253e-01 -9.36651753e-02 -2.59622030e-01]\n",
      " [-4.25839725e-01 -2.97576279e-02  5.62283636e-01 -3.20062668e-01]\n",
      " [-6.88735413e-01 -6.94568039e-01  7.50643357e-01 -1.21764229e+00]\n",
      " [-3.68077490e-01  4.15418922e-01 -2.27749919e-02  7.33983221e-03]\n",
      " [ 6.78450875e-01 -3.32167852e-01  2.94348892e+00 -1.01513270e+00]\n",
      " [-5.83560066e-01 -2.47890371e-01  2.18437474e-01 -3.55850917e-01]\n",
      " [-5.69582778e-01  3.72986111e-01 -4.11981875e-01 -1.99385135e-01]\n",
      " [-9.91775179e-01 -4.77306210e-01  1.32958640e-01 -3.71223022e-01]\n",
      " [-1.21510550e+00 -7.10453244e-01 -1.26324565e-01 -4.00551864e-01]\n",
      " [ 1.03348996e+00  1.52061184e+00  1.63087663e+00 -2.45686781e-01]\n",
      " [-1.22182325e+00 -2.00681482e+00  1.69599049e+00 -2.80500572e-01]\n",
      " [-1.15208869e+00 -1.63972107e-01 -8.69969086e-01 -4.86750421e-01]\n",
      " [-9.79374883e-01 -4.65317296e-01  1.04158163e-01 -3.73287637e-01]\n",
      " [-5.49644824e-01  8.54040559e-01 -2.60975626e-01 -2.45440368e-01]\n",
      " [ 2.99203332e+00  2.92298659e+00  1.42824413e+00 -1.22189774e-01]\n",
      " [-9.36974456e-01  2.64076450e-01 -6.63770236e-01 -2.97284340e-01]\n",
      " [ 6.67924083e-02 -6.09010464e-02 -7.39501601e-01  2.18091120e+00]\n",
      " [-1.05349735e+00 -3.46285333e-01 -6.98472434e-01 -7.37124206e-02]\n",
      " [-1.72810586e-01  2.23506900e-01  7.64629821e-01 -2.94885948e-01]\n",
      " [-1.14365707e+00 -2.74196264e-01 -7.12142654e-01 -7.33855939e-02]\n",
      " [-7.19817524e-01  3.10885247e-01 -4.98559030e-01  2.20747458e+00]\n",
      " [-2.61997407e-01  4.45866783e-01 -1.68144519e-01 -3.67294647e-03]\n",
      " [-3.17427436e-01 -6.49352596e-01  5.23058786e-01 -3.39419121e-01]\n",
      " [-3.17250960e-01  1.18522980e-01 -6.18937354e-01  2.19407301e+00]\n",
      " [ 1.99882865e+00 -8.38359394e-01 -6.33766230e-01 -1.65578507e-01]\n",
      " [-1.18760263e+00 -7.55259861e-01 -9.01961380e-02 -3.98547818e-01]\n",
      " [ 1.49650729e+00  2.38912236e+00  1.18156817e+00  9.72554430e-02]\n",
      " [-2.76755258e-01  7.39589230e-01 -5.28912844e-02 -1.24554439e+00]\n",
      " [-1.15215790e+00 -5.94159484e-01 -3.30934270e-01 -1.48669570e-01]\n",
      " [-6.52692683e-01 -9.34195549e-01 -1.07681265e+00 -5.22460574e-01]\n",
      " [-6.90062396e-01  1.75643384e-01 -4.66974464e-01 -1.29777799e+00]\n",
      " [ 2.86828388e-01  4.81115168e-01 -2.20490269e-02 -8.67175641e-02]\n",
      " [-8.69502790e-01 -5.48236200e-01  1.13909223e-01 -3.74140618e-01]\n",
      " [-1.13382331e+00 -7.45163863e-01 -1.56414019e-01 -4.03638587e-01]\n",
      " [-3.44101136e-02 -5.10533766e+00  7.29259972e+00  1.17656993e-01]\n",
      " [ 4.19572919e-01  4.94138618e-01 -2.54333519e-01  2.23864778e+00]\n",
      " [ 2.11273597e+01 -7.06674372e+00 -4.36531649e+00 -1.05629873e+00]\n",
      " [ 2.41564928e-01  9.91181292e-01  3.77441344e-02  2.27585946e+00]\n",
      " [ 4.04617507e-02  2.51273176e-01  3.23919063e-01 -1.22505553e+00]\n",
      " [-7.87975373e-01 -1.82217818e-01 -9.85038504e-01 -3.35759522e-01]\n",
      " [-3.63046218e-01  1.06939485e+00  5.87984030e-02 -2.11629686e-01]\n",
      " [-9.49940575e-01 -1.91445875e-01 -1.02723401e+00 -4.99853262e-01]\n",
      " [-3.82633745e-01  2.89700657e-01 -4.76353434e-01 -2.06166160e-01]\n",
      " [-7.93709218e-01 -8.85938028e-02 -5.08872117e-01 -4.94666337e-02]\n",
      " [ 5.31016153e-01  3.44482691e-01 -2.81660441e-01 -1.27159431e+00]\n",
      " [-9.23922158e-01  3.16046366e-01 -4.37181652e-01 -1.29263485e+00]\n",
      " [-8.00444484e-01  5.32433743e-01 -3.69753972e-01 -2.64488005e-01]\n",
      " [-1.02485479e+00 -8.02685709e-01 -1.81361322e-01 -4.06763379e-01]\n",
      " [ 2.27825724e-01  6.06917366e-01  4.46448521e-01 -1.20423961e+00]\n",
      " [ 1.15626638e+00  2.07025168e+00  1.86324487e+00 -2.19943517e-01]\n",
      " [-1.22023453e+00  1.51345047e-02 -8.42897325e-01 -3.20521350e-01]\n",
      " [ 1.00450642e+01  1.01486568e+01  6.72753170e+00  6.13135131e-01]\n",
      " [-1.02347422e+00 -1.71390386e-01 -8.14176514e-01 -2.50283920e-01]\n",
      " [-2.76422147e-01  3.97546859e-01 -2.47190843e-01  2.23328823e+00]\n",
      " [-1.02742354e+00 -2.68452894e-01  1.69727348e-01 -2.41185940e-01]\n",
      " [-4.57604008e-01  8.45290128e-01 -2.58237857e-02 -1.24130196e+00]\n",
      " [ 6.21743044e-01 -6.41627779e-02  3.98173138e-01 -3.29819773e-01]\n",
      " [-5.45216466e-01  1.93564849e-03  6.33487703e-01 -3.13751199e-01]\n",
      " [-1.35297102e+00 -3.83601179e-01 -1.16992415e+00 -5.19062094e-01]\n",
      " [ 3.14189242e+00  1.76214588e+00  1.42356407e+00  8.12528906e-02]\n",
      " [-5.45400871e-01 -2.54935462e-01 -6.77019788e-01  2.17805438e+00]\n",
      " [-1.21146435e+00 -7.12814620e-01 -1.26542956e-01 -4.00615841e-01]\n",
      " [ 3.93738777e-01 -1.02929887e-01  1.28007001e+00 -1.15162110e+00]\n",
      " [-1.08656921e+00 -1.09765612e-01 -1.00934094e+00 -4.96816503e-01]\n",
      " [-7.46430679e-01  1.07941007e-01 -8.41539832e-01 -4.75098927e-01]\n",
      " [-5.49510188e-01  2.13129775e-01 -3.65851728e-01 -2.80751265e-02]\n",
      " [ 2.34188183e-01 -4.81659564e-01 -1.05511463e+00 -6.17545360e-01]\n",
      " [-9.09595526e-01 -5.18958676e-02 -5.23253041e-01 -1.49330494e-01]\n",
      " [-1.20301596e-01  6.11679593e-01  7.76882210e-01 -1.17775115e+00]\n",
      " [-9.20721791e-01 -5.21501919e-01  1.26059897e-01 -3.72643859e-01]\n",
      " [-1.12940218e+00 -2.59317156e-01 -9.07483407e-01  2.15552992e+00]\n",
      " [-1.13676756e+00 -2.75515778e-01 -7.16965702e-01 -7.37968440e-02]\n",
      " [-1.64963738e-01 -1.20756165e+00  1.95941488e+00 -2.31641358e-01]\n",
      " [-5.31759624e-01  1.14944101e-01  4.62166221e-01 -3.25212085e-01]\n",
      " [ 8.10310896e-01  2.19012583e+00  8.42938499e-01  2.31415140e+00]\n",
      " [ 1.30485740e+00  3.31883318e+00  1.69842099e+00 -1.10365519e+00]\n",
      " [-5.10924716e-01 -1.67944373e-01 -8.32252321e-01  2.16736660e+00]\n",
      " [-2.71061670e-02  8.35575766e-01  3.73026787e-01 -1.20560425e+00]\n",
      " [-9.37189933e-01  2.95272195e-02 -6.96082389e-01  2.18213020e+00]\n",
      " [-1.12217449e+00 -7.70281833e-01 -1.32511329e-01 -4.02223556e-01]\n",
      " [ 1.48496113e-01  5.86198481e-01 -1.20787995e-01  2.25112710e+00]\n",
      " [ 2.97484695e+00 -3.81111628e-01 -8.29661148e-01 -1.32561944e+00]\n",
      " [-7.38352838e-01  2.96592781e-01 -2.99895033e-01 -2.11638675e-02]\n",
      " [-9.12066975e-01  3.14425781e-01 -4.46391478e-01 -1.29340246e+00]\n",
      " [-5.46254585e-01 -7.86513401e-02  7.47371007e-01 -3.06240341e-01]\n",
      " [-1.71874047e+00 -1.12588425e+00 -1.62404611e+00 -5.71271612e-01]\n",
      " [ 5.78145683e-01 -4.86643496e-01 -6.38326945e-01  2.18061396e+00]\n",
      " [-6.97870523e-02  3.36189863e-01 -3.61340547e-01  2.22296252e+00]\n",
      " [-1.21251968e+00 -7.23684360e-01 -1.10295875e-01 -3.99531971e-01]\n",
      " [-1.02902498e+00 -1.78902737e-01 -9.68222973e-01 -4.94892661e-01]\n",
      " [-9.36172138e-01  1.94576121e-01 -7.79155917e-01 -4.68410761e-01]\n",
      " [ 1.50765724e+00  3.10746807e-01 -3.78012995e-01 -1.27592572e+00]\n",
      " [ 1.59823527e+00 -1.18928244e+00  1.60178584e-01  2.23459832e+00]\n",
      " [ 9.37376248e-02  5.87501491e-01  8.12587742e-01 -2.79792796e-01]\n",
      " [-1.03288287e+00 -1.96385772e+00  2.25497324e+00 -2.30975078e-01]\n",
      " [-9.44817663e-01 -1.76269156e+00  1.82165966e+00  2.34797269e+00]\n",
      " [-1.00431336e+00 -4.84310740e-01  1.54910983e-01 -3.69607304e-01]\n",
      " [ 1.02211807e+00  5.37071615e-01 -2.24860518e-01 -1.25923783e+00]\n",
      " [-5.79243994e-01  8.10651681e-02 -4.41808504e-01 -1.29762910e+00]\n",
      " [-1.13932455e+00 -2.66777762e-01 -8.87424981e-01  2.15698527e+00]\n",
      " [ 1.12478686e-01 -9.91866716e-01  5.86523971e-01 -3.41090566e-01]\n",
      " [ 9.70688745e-01  1.85809646e+00  1.15271159e+00  2.33236117e+00]\n",
      " [-1.02549484e+00 -3.11309223e-01 -9.35275217e-01  2.15228665e+00]\n",
      " [-1.21512011e+00 -7.06792712e-01 -1.31437681e-01 -4.00888319e-01]\n",
      " [ 4.91772030e-01  9.91570510e-02 -4.12411011e-01 -3.00082578e-02]\n",
      " [ 2.38014813e-01  1.06848925e+00  1.10754695e+00 -7.72941911e-02]\n",
      " [-1.09125371e+00  1.48818222e-02 -6.55418605e-01 -1.32002369e+00]\n",
      " [-1.28087238e+00 -4.04195911e-01 -1.21089280e+00 -5.22739959e-01]\n",
      " [-8.50602226e-01 -7.27598059e-01  3.66075819e-01 -9.15901763e-02]\n",
      " [ 1.82856743e+00  3.56402643e+00  1.96898848e+00 -1.08085242e+00]\n",
      " [-9.43101594e-02  5.71382606e-01  4.96136065e-01 -1.86496895e-01]\n",
      " [-1.14764828e+00 -9.09427585e-03 -8.79247977e-01 -3.23901763e-01]\n",
      " [-9.32632489e-01 -4.64309927e-01  5.74846998e-02 -3.76996006e-01]\n",
      " [ 2.01163985e-01  6.16571172e-01 -5.36350574e-02  1.28626822e-02]\n",
      " [-4.63266976e-01 -2.83849704e-01 -8.45088204e-01 -1.34105362e+00]\n",
      " [-1.06154017e+00 -4.53947742e-01 -7.00577985e-01  2.16822678e+00]\n",
      " [-7.19025461e-01  2.92771521e-01 -4.73954099e-01  2.20908353e+00]\n",
      " [-1.01083417e+00 -9.10540377e-01  7.58243936e-01 -3.29802190e-01]\n",
      " [-9.38325590e-01 -1.08481365e-01 -9.42731255e-01 -3.30928811e-01]\n",
      " [-7.68108384e-01 -7.33505423e-01 -1.24615765e+00 -5.32037942e-01]\n",
      " [-1.12752297e+00  9.37828767e-03 -6.12588998e-01 -1.31671082e+00]\n",
      " [-1.04976610e+00 -1.28624840e-01 -1.01856259e+00 -4.97924230e-01]\n",
      " [-1.01183909e+00  3.05482197e-01 -6.49272880e-01 -2.95311456e-01]\n",
      " [-5.73724741e-01 -1.05158189e+00 -1.68032293e-02 -2.03913431e-01]\n",
      " [ 5.25246252e+00  1.14667098e+00  6.23543353e-01 -4.99781030e-01]\n",
      " [-7.97179647e-01  2.19970224e-01 -4.25337524e-01 -1.29357964e+00]\n",
      " [ 5.87512895e-01 -2.79311595e-01  1.54859024e+00 -2.38061206e-01]\n",
      " [-1.14899642e+00  1.95415865e-02 -6.06031048e-01 -1.31598695e+00]\n",
      " [-8.74696338e-01  4.02350060e-03 -7.20874333e-01  2.17964786e+00]\n",
      " [-3.94161442e-01 -3.46829621e-01  9.09466302e-01  2.31103098e+00]\n",
      " [-1.02960643e+00  3.16720820e-01 -6.47810080e-01 -2.94973367e-01]\n",
      " [-2.37089451e-01 -9.36739280e-01 -1.30574934e+00 -3.08642153e-01]\n",
      " [-1.18766400e+00 -7.25716756e-01 -1.31517727e-01 -4.01267103e-01]]\n"
     ]
    }
   ],
   "source": [
    "#Now build the model with chosen number of Principal Components\n",
    "pca = PCA(n_components = 4)\n",
    "train_pca = pca.fit_transform(predictors)  \n",
    "test_pca = pca.fit_transform(test_dataset_normalized)\n",
    "print(test_pca)"
   ]
  },
  {
   "cell_type": "code",
   "execution_count": 14,
   "metadata": {},
   "outputs": [
    {
     "data": {
      "text/html": [
       "<div>\n",
       "<style scoped>\n",
       "    .dataframe tbody tr th:only-of-type {\n",
       "        vertical-align: middle;\n",
       "    }\n",
       "\n",
       "    .dataframe tbody tr th {\n",
       "        vertical-align: top;\n",
       "    }\n",
       "\n",
       "    .dataframe thead th {\n",
       "        text-align: right;\n",
       "    }\n",
       "</style>\n",
       "<table border=\"1\" class=\"dataframe\">\n",
       "  <thead>\n",
       "    <tr style=\"text-align: right;\">\n",
       "      <th></th>\n",
       "      <th>Reputation</th>\n",
       "      <th>Answers</th>\n",
       "      <th>Views</th>\n",
       "      <th>Total_Answers_by_User</th>\n",
       "      <th>Tag_c</th>\n",
       "      <th>Tag_h</th>\n",
       "      <th>Tag_i</th>\n",
       "      <th>Tag_j</th>\n",
       "      <th>Tag_o</th>\n",
       "      <th>Tag_p</th>\n",
       "      <th>Tag_r</th>\n",
       "      <th>Tag_s</th>\n",
       "      <th>Tag_x</th>\n",
       "      <th>Views_per_Answer</th>\n",
       "      <th>Views_per_Reputation</th>\n",
       "      <th>Views_Scale</th>\n",
       "      <th>Reputation_Scale</th>\n",
       "      <th>Answers_Scale</th>\n",
       "    </tr>\n",
       "  </thead>\n",
       "  <tbody>\n",
       "    <tr>\n",
       "      <th>PC-1</th>\n",
       "      <td>-0.009855</td>\n",
       "      <td>0.296035</td>\n",
       "      <td>0.422263</td>\n",
       "      <td>0.279915</td>\n",
       "      <td>-0.023145</td>\n",
       "      <td>-0.019417</td>\n",
       "      <td>-0.026887</td>\n",
       "      <td>0.001259</td>\n",
       "      <td>-0.006407</td>\n",
       "      <td>0.005342</td>\n",
       "      <td>-0.025157</td>\n",
       "      <td>-0.061796</td>\n",
       "      <td>0.163476</td>\n",
       "      <td>0.422263</td>\n",
       "      <td>0.422262</td>\n",
       "      <td>0.422245</td>\n",
       "      <td>-0.009856</td>\n",
       "      <td>0.296184</td>\n",
       "    </tr>\n",
       "    <tr>\n",
       "      <th>PC-2</th>\n",
       "      <td>-0.381916</td>\n",
       "      <td>0.406736</td>\n",
       "      <td>-0.199533</td>\n",
       "      <td>0.376267</td>\n",
       "      <td>-0.181062</td>\n",
       "      <td>-0.032294</td>\n",
       "      <td>0.097541</td>\n",
       "      <td>0.116677</td>\n",
       "      <td>-0.002717</td>\n",
       "      <td>0.004682</td>\n",
       "      <td>-0.037175</td>\n",
       "      <td>-0.026612</td>\n",
       "      <td>-0.132351</td>\n",
       "      <td>-0.199533</td>\n",
       "      <td>-0.199524</td>\n",
       "      <td>-0.199588</td>\n",
       "      <td>-0.381948</td>\n",
       "      <td>0.406673</td>\n",
       "    </tr>\n",
       "    <tr>\n",
       "      <th>PC-3</th>\n",
       "      <td>0.544512</td>\n",
       "      <td>0.291236</td>\n",
       "      <td>-0.129383</td>\n",
       "      <td>0.254912</td>\n",
       "      <td>0.237492</td>\n",
       "      <td>-0.054561</td>\n",
       "      <td>-0.045341</td>\n",
       "      <td>0.028202</td>\n",
       "      <td>-0.004761</td>\n",
       "      <td>-0.072911</td>\n",
       "      <td>-0.055063</td>\n",
       "      <td>-0.136281</td>\n",
       "      <td>-0.127428</td>\n",
       "      <td>-0.129383</td>\n",
       "      <td>-0.129388</td>\n",
       "      <td>-0.129394</td>\n",
       "      <td>0.544516</td>\n",
       "      <td>0.291265</td>\n",
       "    </tr>\n",
       "    <tr>\n",
       "      <th>PC-4</th>\n",
       "      <td>0.035949</td>\n",
       "      <td>0.037017</td>\n",
       "      <td>-0.014256</td>\n",
       "      <td>0.002469</td>\n",
       "      <td>-0.133687</td>\n",
       "      <td>-0.037196</td>\n",
       "      <td>-0.080639</td>\n",
       "      <td>-0.468509</td>\n",
       "      <td>-0.019966</td>\n",
       "      <td>0.848684</td>\n",
       "      <td>-0.033715</td>\n",
       "      <td>-0.128136</td>\n",
       "      <td>-0.101831</td>\n",
       "      <td>-0.014256</td>\n",
       "      <td>-0.014271</td>\n",
       "      <td>-0.014266</td>\n",
       "      <td>0.036008</td>\n",
       "      <td>0.037051</td>\n",
       "    </tr>\n",
       "  </tbody>\n",
       "</table>\n",
       "</div>"
      ],
      "text/plain": [
       "      Reputation   Answers     Views  Total_Answers_by_User     Tag_c  \\\n",
       "PC-1   -0.009855  0.296035  0.422263               0.279915 -0.023145   \n",
       "PC-2   -0.381916  0.406736 -0.199533               0.376267 -0.181062   \n",
       "PC-3    0.544512  0.291236 -0.129383               0.254912  0.237492   \n",
       "PC-4    0.035949  0.037017 -0.014256               0.002469 -0.133687   \n",
       "\n",
       "         Tag_h     Tag_i     Tag_j     Tag_o     Tag_p     Tag_r     Tag_s  \\\n",
       "PC-1 -0.019417 -0.026887  0.001259 -0.006407  0.005342 -0.025157 -0.061796   \n",
       "PC-2 -0.032294  0.097541  0.116677 -0.002717  0.004682 -0.037175 -0.026612   \n",
       "PC-3 -0.054561 -0.045341  0.028202 -0.004761 -0.072911 -0.055063 -0.136281   \n",
       "PC-4 -0.037196 -0.080639 -0.468509 -0.019966  0.848684 -0.033715 -0.128136   \n",
       "\n",
       "         Tag_x  Views_per_Answer  Views_per_Reputation  Views_Scale  \\\n",
       "PC-1  0.163476          0.422263              0.422262     0.422245   \n",
       "PC-2 -0.132351         -0.199533             -0.199524    -0.199588   \n",
       "PC-3 -0.127428         -0.129383             -0.129388    -0.129394   \n",
       "PC-4 -0.101831         -0.014256             -0.014271    -0.014266   \n",
       "\n",
       "      Reputation_Scale  Answers_Scale  \n",
       "PC-1         -0.009856       0.296184  \n",
       "PC-2         -0.381948       0.406673  \n",
       "PC-3          0.544516       0.291265  \n",
       "PC-4          0.036008       0.037051  "
      ]
     },
     "execution_count": 14,
     "metadata": {},
     "output_type": "execute_result"
    }
   ],
   "source": [
    "# Dump the principal components relation with features\n",
    "pd.DataFrame(pca.components_, columns = test_dataset_normalized.columns, index = ['PC-1', 'PC-2', 'PC-3', 'PC-4'])\n"
   ]
  },
  {
   "cell_type": "code",
   "execution_count": 15,
   "metadata": {},
   "outputs": [
    {
     "data": {
      "text/plain": [
       "array([26.97, 38.93, 50.57, 57.26])"
      ]
     },
     "metadata": {},
     "output_type": "display_data"
    }
   ],
   "source": [
    "variance_ratio_cum_sum = np.cumsum(np.round(pca.explained_variance_ratio_, decimals = 4) * 100)\n",
    "display(variance_ratio_cum_sum)\n"
   ]
  },
  {
   "cell_type": "code",
   "execution_count": 16,
   "metadata": {},
   "outputs": [
    {
     "data": {
      "text/plain": [
       "Text(204,0.5,'Principal components')"
      ]
     },
     "execution_count": 16,
     "metadata": {},
     "output_type": "execute_result"
    },
    {
     "data": {
      "image/png": "[encoded data removed]",
      "text/plain": [
       "<matplotlib.figure.Figure at 0xbf5b978>"
      ]
     },
     "metadata": {},
     "output_type": "display_data"
    }
   ],
   "source": [
    "# Plot the heat map displaying compliance of principal components with input feature\n",
    "plt.figure(figsize=[25,5])\n",
    "sns.heatmap(pca.components_[0:10,:], annot = True, cmap = 'viridis')\n",
    "plt.yticks([0,1,2,3], [\"PC-1\", \"PC-2\", \"PC-3\", \"PC-4\"], rotation = 360, ha = \"right\")\n",
    "plt.xticks(range(len(features)), feature_cols, rotation=90, ha = \"left\")\n",
    "plt.xlabel(\"Feature\")\n",
    "plt.ylabel(\"Principal components\")"
   ]
  },
  {
   "cell_type": "code",
   "execution_count": 17,
   "metadata": {},
   "outputs": [],
   "source": [
    "X_train, X_validate, y_train, y_validate = train_test_split(train_pca, y, test_size=0.33, random_state=3)\n",
    "#train_pca.shape"
   ]
  },
  {
   "cell_type": "markdown",
   "metadata": {},
   "source": [
    "### Compare the accuracy of the algorithms"
   ]
  },
  {
   "cell_type": "code",
   "execution_count": 18,
   "metadata": {},
   "outputs": [],
   "source": [
    "from sklearn.linear_model import LinearRegression\n",
    "from sklearn.linear_model import Lasso\n",
    "from sklearn.linear_model import ElasticNet\n",
    "from sklearn.discriminant_analysis import LinearDiscriminantAnalysis\n",
    "from sklearn.neighbors import KNeighborsRegressor\n",
    "from sklearn.tree import DecisionTreeRegressor\n",
    "from sklearn.svm import SVR\n",
    "from sklearn.neighbors import KNeighborsRegressor\n",
    "from sklearn import model_selection\n",
    "from sklearn.model_selection import cross_val_score\n",
    "# Spot Check Algorithms\n",
    "models = []\n",
    "models.append(('LR', LinearRegression()))\n",
    "models.append(('LDA', LinearDiscriminantAnalysis()))\n",
    "models.append(('KNN', KNeighborsRegressor()))\n",
    "models.append(('LASSO', Lasso()))\n",
    "models.append(('EN', ElasticNet()))\n",
    "models.append(('DecisionTree', DecisionTreeRegressor()))\n",
    "models.append(('SVR', SVR()))"
   ]
  },
  {
   "cell_type": "code",
   "execution_count": 23,
   "metadata": {},
   "outputs": [
    {
     "name": "stdout",
     "output_type": "stream",
     "text": [
      "LR: -2238542.074992 (1985073.972498)\n",
      "LDA: -1070854.577815 (2132149.664273)\n",
      "KNN: -1762904.625400 (1863186.450935)\n",
      "LASSO: -2235826.109238 (1983572.678078)\n",
      "EN: -1901464.411866 (1771027.057321)\n",
      "DecisionTree: -2140792.795000 (1284713.284329)\n",
      "SVR: -2978104.187197 (2900762.001990)\n"
     ]
    }
   ],
   "source": [
    "# evaluate each model in turn\n",
    "results = []\n",
    "names = []\n",
    "for name, model in models:\n",
    "    kfold = model_selection.KFold(n_splits=10, random_state=3)\n",
    "    cv_results = model_selection.cross_val_score(model, X_train, y_train, cv=5, scoring = 'mean_squared_error')\n",
    "    results.append(cv_results)\n",
    "    names.append(name)\n",
    "    msg = \"%s: %f (%f)\" % (name, cv_results.mean(), cv_results.std())\n",
    "    print(msg)"
   ]
  },
  {
   "cell_type": "code",
   "execution_count": 24,
   "metadata": {},
   "outputs": [
    {
     "data": {
      "image/png": "[encoded data removed]",
      "text/plain": [
       "<matplotlib.figure.Figure at 0xbe9dac8>"
      ]
     },
     "metadata": {},
     "output_type": "display_data"
    }
   ],
   "source": [
    "# boxplot algorithm comparison\n",
    "fig = plt.figure()\n",
    "\n",
    "fig.suptitle('Algorithm Comparison')\n",
    "ax = fig.add_subplot(111)\n",
    "plt.boxplot(results)\n",
    "ax.set_xticklabels(names)\n",
    "plt.show()"
   ]
  },
  {
   "cell_type": "markdown",
   "metadata": {},
   "source": [
    "### Inference\n",
    "1. Linier Regression, KNN and Support Vector Regression seems to a better algorithm"
   ]
  },
  {
   "cell_type": "markdown",
   "metadata": {},
   "source": [
    "## Build the Linier Regression Model"
   ]
  },
  {
   "cell_type": "code",
   "execution_count": 25,
   "metadata": {},
   "outputs": [],
   "source": [
    "from sklearn.linear_model import LinearRegression\n",
    "from sklearn import linear_model\n",
    "from sklearn import metrics"
   ]
  },
  {
   "cell_type": "code",
   "execution_count": 26,
   "metadata": {},
   "outputs": [
    {
     "data": {
      "text/plain": [
       "345.5291657330672"
      ]
     },
     "metadata": {},
     "output_type": "display_data"
    },
    {
     "data": {
      "text/plain": [
       "array([ 382.48840787,  435.29900944, -196.94469625, -470.87078893])"
      ]
     },
     "metadata": {},
     "output_type": "display_data"
    },
    {
     "data": {
      "text/plain": [
       "[('Reputation', 382.48840786599305),\n",
       " ('Answers', 435.29900944117594),\n",
       " ('Views', -196.9446962468657),\n",
       " ('Total_Answers_by_User', -470.87078893420784)]"
      ]
     },
     "execution_count": 26,
     "metadata": {},
     "output_type": "execute_result"
    }
   ],
   "source": [
    "#Build the linier regression model\n",
    "linreg = LinearRegression()\n",
    "model = linreg.fit(X_train, y_train)\n",
    "# Display the intercept and coefficient\n",
    "display (linreg.intercept_)\n",
    "display (linreg.coef_)\n",
    "list(zip(feature_cols, linreg.coef_))"
   ]
  },
  {
   "cell_type": "code",
   "execution_count": 27,
   "metadata": {},
   "outputs": [
    {
     "data": {
      "text/plain": [
       "array([ 370.68709951,  197.97625367,   75.66494493,  -65.69942656,\n",
       "       -132.53964572, -176.7253946 ,   -5.49333621, 2450.31076009,\n",
       "        -38.42834489, -164.57435125, -171.95543978, -181.80302085,\n",
       "        -98.10152978, -104.36234443, -163.49127793,  442.35763968,\n",
       "         13.86406326,   87.52826687,  140.99985107, 1555.53609796,\n",
       "         34.84211794, 3015.37428843,  -21.39708327,  144.62217402,\n",
       "         32.30941459,   96.4135871 , -118.11307829,   29.59612585,\n",
       "       1191.65542939, -171.30424227,  -71.44574139,    4.84999273,\n",
       "         53.262062  ,  160.74352268, 1451.25033007,  371.99917485,\n",
       "       -132.36484417, -145.35226378, -170.32179179,  -67.37704201,\n",
       "        893.57936036,   71.7740758 ,   25.57294894, -104.16936866,\n",
       "       2227.61950866,  149.77500077,  447.52687876, -156.37383256,\n",
       "       -187.64063894,   78.23088494,  111.62465801,  244.08700544,\n",
       "       -138.99228819,   58.32630424,  -34.60984595, 4139.72778003,\n",
       "       -124.19300037, 2972.52899292,  -50.49391114, -150.58761787,\n",
       "        -63.28053209, -171.71228191,  -67.38934302, -182.80451342,\n",
       "       -163.6446859 , -190.08286197, -149.10855564, -106.35091342,\n",
       "        209.51664289,  -60.25144136,   19.21570404,  -11.50718846,\n",
       "       -134.58408904, 4401.49020966, -169.38314573,  -76.61519958,\n",
       "        -44.9152444 , -106.15904037, 3007.18418166,   89.5985164 ,\n",
       "       1516.84498234, -135.43414021,   72.80925741,   35.73379138,\n",
       "         98.44477446,  282.0035142 , -120.87626753,  -60.62485633,\n",
       "       -112.27296007,  -79.47110699,  120.2495729 , -163.72228756,\n",
       "         -9.92287123,  -25.22143176, -109.72787468,  -57.83311082,\n",
       "        317.44232437, -143.25594004, -187.4669269 ])"
      ]
     },
     "execution_count": 27,
     "metadata": {},
     "output_type": "execute_result"
    }
   ],
   "source": [
    "y_pred  = model.predict(X_validate)\n",
    "y_pred"
   ]
  },
  {
   "cell_type": "code",
   "execution_count": 28,
   "metadata": {},
   "outputs": [
    {
     "data": {
      "text/plain": [
       "1003.9052717392406"
      ]
     },
     "execution_count": 28,
     "metadata": {},
     "output_type": "execute_result"
    }
   ],
   "source": [
    "rmse_value = np.sqrt(metrics.mean_squared_error(y_validate, y_pred))\n",
    "rmse_value"
   ]
  },
  {
   "cell_type": "code",
   "execution_count": 29,
   "metadata": {},
   "outputs": [
    {
     "data": {
      "text/plain": [
       "0.536197108553071"
      ]
     },
     "metadata": {},
     "output_type": "display_data"
    }
   ],
   "source": [
    "# Coefficient of determination or R squared value on training dataset\n",
    "display(model.score(X_train,y_train))"
   ]
  },
  {
   "cell_type": "code",
   "execution_count": 30,
   "metadata": {},
   "outputs": [
    {
     "data": {
      "text/plain": [
       "0.1667133659221428"
      ]
     },
     "execution_count": 30,
     "metadata": {},
     "output_type": "execute_result"
    }
   ],
   "source": [
    "# Coefficient of determination or R squared value on test dataset\n",
    "metrics.r2_score(y_validate,y_pred)"
   ]
  },
  {
   "cell_type": "code",
   "execution_count": 31,
   "metadata": {},
   "outputs": [],
   "source": [
    "pred_test = linreg.predict(test_pca)"
   ]
  },
  {
   "cell_type": "code",
   "execution_count": 32,
   "metadata": {},
   "outputs": [],
   "source": [
    "# Output the Dataframe into a CSV file\n",
    "test_dataset['Upvotes'] = pred_test\n",
    "test_dataset[['ID', 'Upvotes']].to_csv('Submission_Anupam_LR.csv',  index = False)"
   ]
  },
  {
   "cell_type": "markdown",
   "metadata": {},
   "source": [
    "## Build the K Nearest Neighbours Model"
   ]
  },
  {
   "cell_type": "code",
   "execution_count": 33,
   "metadata": {},
   "outputs": [],
   "source": [
    "from sklearn.neighbors import KNeighborsRegressor"
   ]
  },
  {
   "cell_type": "code",
   "execution_count": 34,
   "metadata": {},
   "outputs": [],
   "source": [
    "knn_reggression = KNeighborsRegressor(n_neighbors = 5)\n",
    "knn_reggression = knn_reggression.fit(X_train, y_train)"
   ]
  },
  {
   "cell_type": "code",
   "execution_count": 35,
   "metadata": {},
   "outputs": [
    {
     "data": {
      "text/plain": [
       "array([ 164.4,  300.6,   25.8,   27.4,    9.2,   21.6,   12.4,  198.4,\n",
       "         27.4,    5.2,   21.6,   20.4,   35.8,   28.8,   43.4,  132. ,\n",
       "         38. ,   77.6,   52.4, 1850.2,  136.4,  594.2,   43.8,  121.8,\n",
       "         24.8,   32. ,   26.8,   12.4,  609. ,    6.4,   37.4,   20.6,\n",
       "         36.4,   33.2,  980.2,  102.8,    9.8,    7.4,   21.6,   40. ,\n",
       "        121.8,  140.2,   24.8,   10.8,  215. ,   41.8,  274.6,   43.4,\n",
       "          6.8,   31.6,   46.4,   41.2,   10. ,   62. ,   27.4,  386. ,\n",
       "          9.8,  547.2,   55.2,    7.2,    9. ,   23. ,   22. ,    7.2,\n",
       "          5.2,    7.8,   12. ,   16.4,   58.4,   27.4,  106.2,   29.8,\n",
       "         10. , 4626.4,    9.6,    8.2,   41.2,    5.4, 3095.4,   42.6,\n",
       "       1112. ,   10. ,   37.8,   62.2,  126.6,  276.2,   17. ,   27.4,\n",
       "         10.8,   27. ,   32. ,    7.6,   44.8,   27.4,    6.2,   44.8,\n",
       "         47.4,    8.4,    6.8])"
      ]
     },
     "execution_count": 35,
     "metadata": {},
     "output_type": "execute_result"
    }
   ],
   "source": [
    "y_pred = knn_reggression.predict(X_validate)\n",
    "y_pred"
   ]
  },
  {
   "cell_type": "code",
   "execution_count": 36,
   "metadata": {},
   "outputs": [
    {
     "data": {
      "text/plain": [
       "1070.549810974612"
      ]
     },
     "execution_count": 36,
     "metadata": {},
     "output_type": "execute_result"
    }
   ],
   "source": [
    "rmse_value = np.sqrt(metrics.mean_squared_error(y_validate, y_pred))\n",
    "rmse_value"
   ]
  },
  {
   "cell_type": "code",
   "execution_count": 37,
   "metadata": {},
   "outputs": [
    {
     "data": {
      "text/plain": [
       "0.573713639623644"
      ]
     },
     "execution_count": 37,
     "metadata": {},
     "output_type": "execute_result"
    }
   ],
   "source": [
    "# Coefficient of determination or R squared value on training dataset\n",
    "knn_reggression.score(X_train,y_train)\n"
   ]
  },
  {
   "cell_type": "code",
   "execution_count": 38,
   "metadata": {},
   "outputs": [
    {
     "data": {
      "text/plain": [
       "0.05240512235729167"
      ]
     },
     "execution_count": 38,
     "metadata": {},
     "output_type": "execute_result"
    }
   ],
   "source": [
    "# Coefficient of determination or R squared value on test dataset\n",
    "metrics.r2_score(y_validate,y_pred)"
   ]
  },
  {
   "cell_type": "code",
   "execution_count": 39,
   "metadata": {},
   "outputs": [],
   "source": [
    "pred_test = knn_reggression.predict(test_pca)"
   ]
  },
  {
   "cell_type": "code",
   "execution_count": 40,
   "metadata": {},
   "outputs": [],
   "source": [
    "# Output the Dataframe into a CSV file\n",
    "test_dataset['Upvotes'] = pred_test\n",
    "test_dataset[['ID', 'Upvotes']].to_csv('Submission_Anupam_KNN.csv',  index = False)"
   ]
  },
  {
   "cell_type": "markdown",
   "metadata": {},
   "source": [
    "## Build the Random Forest Model"
   ]
  },
  {
   "cell_type": "code",
   "execution_count": 41,
   "metadata": {},
   "outputs": [
    {
     "data": {
      "text/html": [
       "<div>\n",
       "<style scoped>\n",
       "    .dataframe tbody tr th:only-of-type {\n",
       "        vertical-align: middle;\n",
       "    }\n",
       "\n",
       "    .dataframe tbody tr th {\n",
       "        vertical-align: top;\n",
       "    }\n",
       "\n",
       "    .dataframe thead th {\n",
       "        text-align: right;\n",
       "    }\n",
       "</style>\n",
       "<table border=\"1\" class=\"dataframe\">\n",
       "  <thead>\n",
       "    <tr style=\"text-align: right;\">\n",
       "      <th></th>\n",
       "      <th>Reputation</th>\n",
       "      <th>Answers</th>\n",
       "      <th>Views</th>\n",
       "      <th>Total_Answers_by_User</th>\n",
       "      <th>Tag_c</th>\n",
       "      <th>Tag_h</th>\n",
       "      <th>Tag_i</th>\n",
       "      <th>Tag_j</th>\n",
       "      <th>Tag_o</th>\n",
       "      <th>Tag_p</th>\n",
       "      <th>Tag_r</th>\n",
       "      <th>Tag_s</th>\n",
       "      <th>Tag_x</th>\n",
       "      <th>Views_per_Answer</th>\n",
       "      <th>Views_per_Reputation</th>\n",
       "      <th>Views_Scale</th>\n",
       "      <th>Reputation_Scale</th>\n",
       "      <th>Answers_Scale</th>\n",
       "    </tr>\n",
       "  </thead>\n",
       "  <tbody>\n",
       "    <tr>\n",
       "      <th>0</th>\n",
       "      <td>-0.158982</td>\n",
       "      <td>-0.524248</td>\n",
       "      <td>-0.302833</td>\n",
       "      <td>-0.242558</td>\n",
       "      <td>-0.521862</td>\n",
       "      <td>-0.260494</td>\n",
       "      <td>-0.327731</td>\n",
       "      <td>-0.532223</td>\n",
       "      <td>-0.221637</td>\n",
       "      <td>-0.358193</td>\n",
       "      <td>-0.213201</td>\n",
       "      <td>-0.26774</td>\n",
       "      <td>-0.100673</td>\n",
       "      <td>-0.302833</td>\n",
       "      <td>-0.303161</td>\n",
       "      <td>-0.302865</td>\n",
       "      <td>-0.160349</td>\n",
       "      <td>-0.524201</td>\n",
       "    </tr>\n",
       "    <tr>\n",
       "      <th>1</th>\n",
       "      <td>0.821670</td>\n",
       "      <td>1.909761</td>\n",
       "      <td>0.250135</td>\n",
       "      <td>2.573945</td>\n",
       "      <td>-0.521862</td>\n",
       "      <td>-0.260494</td>\n",
       "      <td>-0.327731</td>\n",
       "      <td>-0.532223</td>\n",
       "      <td>-0.221637</td>\n",
       "      <td>-0.358193</td>\n",
       "      <td>-0.213201</td>\n",
       "      <td>-0.26774</td>\n",
       "      <td>-0.100673</td>\n",
       "      <td>0.250135</td>\n",
       "      <td>0.249717</td>\n",
       "      <td>0.251901</td>\n",
       "      <td>0.821311</td>\n",
       "      <td>1.910752</td>\n",
       "    </tr>\n",
       "    <tr>\n",
       "      <th>2</th>\n",
       "      <td>-0.273622</td>\n",
       "      <td>-0.037446</td>\n",
       "      <td>-0.300388</td>\n",
       "      <td>-0.242558</td>\n",
       "      <td>1.916214</td>\n",
       "      <td>-0.260494</td>\n",
       "      <td>-0.327731</td>\n",
       "      <td>-0.532223</td>\n",
       "      <td>-0.221637</td>\n",
       "      <td>-0.358193</td>\n",
       "      <td>-0.213201</td>\n",
       "      <td>-0.26774</td>\n",
       "      <td>-0.100673</td>\n",
       "      <td>-0.300388</td>\n",
       "      <td>-0.300557</td>\n",
       "      <td>-0.298931</td>\n",
       "      <td>-0.273874</td>\n",
       "      <td>-0.039231</td>\n",
       "    </tr>\n",
       "    <tr>\n",
       "      <th>3</th>\n",
       "      <td>-0.322158</td>\n",
       "      <td>-0.280847</td>\n",
       "      <td>-0.081293</td>\n",
       "      <td>-0.242558</td>\n",
       "      <td>-0.521862</td>\n",
       "      <td>-0.260494</td>\n",
       "      <td>-0.327731</td>\n",
       "      <td>-0.532223</td>\n",
       "      <td>-0.221637</td>\n",
       "      <td>-0.358193</td>\n",
       "      <td>-0.213201</td>\n",
       "      <td>-0.26774</td>\n",
       "      <td>-0.100673</td>\n",
       "      <td>-0.081293</td>\n",
       "      <td>-0.080968</td>\n",
       "      <td>-0.082533</td>\n",
       "      <td>-0.320620</td>\n",
       "      <td>-0.281716</td>\n",
       "    </tr>\n",
       "    <tr>\n",
       "      <th>4</th>\n",
       "      <td>-0.144386</td>\n",
       "      <td>-0.037446</td>\n",
       "      <td>-0.232123</td>\n",
       "      <td>-0.242558</td>\n",
       "      <td>1.916214</td>\n",
       "      <td>-0.260494</td>\n",
       "      <td>-0.327731</td>\n",
       "      <td>-0.532223</td>\n",
       "      <td>-0.221637</td>\n",
       "      <td>-0.358193</td>\n",
       "      <td>-0.213201</td>\n",
       "      <td>-0.26774</td>\n",
       "      <td>-0.100673</td>\n",
       "      <td>-0.232123</td>\n",
       "      <td>-0.231990</td>\n",
       "      <td>-0.232044</td>\n",
       "      <td>-0.143654</td>\n",
       "      <td>-0.039231</td>\n",
       "    </tr>\n",
       "  </tbody>\n",
       "</table>\n",
       "</div>"
      ],
      "text/plain": [
       "   Reputation   Answers     Views  Total_Answers_by_User     Tag_c     Tag_h  \\\n",
       "0   -0.158982 -0.524248 -0.302833              -0.242558 -0.521862 -0.260494   \n",
       "1    0.821670  1.909761  0.250135               2.573945 -0.521862 -0.260494   \n",
       "2   -0.273622 -0.037446 -0.300388              -0.242558  1.916214 -0.260494   \n",
       "3   -0.322158 -0.280847 -0.081293              -0.242558 -0.521862 -0.260494   \n",
       "4   -0.144386 -0.037446 -0.232123              -0.242558  1.916214 -0.260494   \n",
       "\n",
       "      Tag_i     Tag_j     Tag_o     Tag_p     Tag_r    Tag_s     Tag_x  \\\n",
       "0 -0.327731 -0.532223 -0.221637 -0.358193 -0.213201 -0.26774 -0.100673   \n",
       "1 -0.327731 -0.532223 -0.221637 -0.358193 -0.213201 -0.26774 -0.100673   \n",
       "2 -0.327731 -0.532223 -0.221637 -0.358193 -0.213201 -0.26774 -0.100673   \n",
       "3 -0.327731 -0.532223 -0.221637 -0.358193 -0.213201 -0.26774 -0.100673   \n",
       "4 -0.327731 -0.532223 -0.221637 -0.358193 -0.213201 -0.26774 -0.100673   \n",
       "\n",
       "   Views_per_Answer  Views_per_Reputation  Views_Scale  Reputation_Scale  \\\n",
       "0         -0.302833             -0.303161    -0.302865         -0.160349   \n",
       "1          0.250135              0.249717     0.251901          0.821311   \n",
       "2         -0.300388             -0.300557    -0.298931         -0.273874   \n",
       "3         -0.081293             -0.080968    -0.082533         -0.320620   \n",
       "4         -0.232123             -0.231990    -0.232044         -0.143654   \n",
       "\n",
       "   Answers_Scale  \n",
       "0      -0.524201  \n",
       "1       1.910752  \n",
       "2      -0.039231  \n",
       "3      -0.281716  \n",
       "4      -0.039231  "
      ]
     },
     "execution_count": 41,
     "metadata": {},
     "output_type": "execute_result"
    }
   ],
   "source": [
    "train_dataset_normalized.head()"
   ]
  },
  {
   "cell_type": "code",
   "execution_count": 42,
   "metadata": {},
   "outputs": [],
   "source": [
    "from sklearn.ensemble import RandomForestRegressor\n",
    "from sklearn import tree\n",
    "from sklearn.tree import DecisionTreeRegressor\n",
    "from sklearn.ensemble import RandomForestRegressor"
   ]
  },
  {
   "cell_type": "code",
   "execution_count": 43,
   "metadata": {},
   "outputs": [],
   "source": [
    "model = tree.DecisionTreeRegressor(random_state = 123)\n",
    "#model = model.fit(X_train, y_train)\n"
   ]
  },
  {
   "cell_type": "code",
   "execution_count": 44,
   "metadata": {},
   "outputs": [
    {
     "data": {
      "text/plain": [
       "{'max_depth': 25, 'min_samples_split': 5}"
      ]
     },
     "execution_count": 44,
     "metadata": {},
     "output_type": "execute_result"
    }
   ],
   "source": [
    "# Tune the hyper parameter\n",
    "params = {\"max_depth\": [3, 25], \"min_samples_split\": [5,50]}\n",
    "from sklearn.grid_search import GridSearchCV\n",
    "grid=GridSearchCV(model,params, cv = 5)\n",
    "grid_model = grid.fit(X_train,y_train)\n",
    "grid_model.best_params_\n"
   ]
  },
  {
   "cell_type": "code",
   "execution_count": 45,
   "metadata": {},
   "outputs": [],
   "source": [
    "grid_pred=grid_model.predict(X_validate)"
   ]
  },
  {
   "cell_type": "code",
   "execution_count": 46,
   "metadata": {},
   "outputs": [
    {
     "name": "stdout",
     "output_type": "stream",
     "text": [
      "0.7285102270197907\n",
      "-0.6415310405159682\n"
     ]
    }
   ],
   "source": [
    "#The feature_importances_ attribute make it simple to interpret the significance of the predictors you include\n",
    "print(grid_model.score(X_train, y_train))\n",
    "print(grid_model.score(X_validate, y_validate))\n"
   ]
  },
  {
   "cell_type": "code",
   "execution_count": 47,
   "metadata": {},
   "outputs": [
    {
     "data": {
      "text/plain": [
       "array([4.55000000e+01, 3.63000000e+02, 4.20000000e+01, 1.72000000e+02,\n",
       "       2.93500000e+03, 1.43333333e+01, 7.25000000e+00, 5.55500000e+02,\n",
       "       1.75000000e+00, 2.69250000e+02, 2.00000000e+01, 7.25000000e+00,\n",
       "       3.40000000e+01, 1.41100000e+03, 1.23200000e+03, 2.20000000e+01,\n",
       "       2.06666667e+01, 1.15666667e+02, 8.14000000e+02, 8.47500000e+01,\n",
       "       2.55000000e+01, 3.63000000e+02, 4.20000000e+01, 8.60000000e+01,\n",
       "       2.93500000e+03, 1.72000000e+02, 1.00750000e+02, 1.15666667e+02,\n",
       "       1.75000000e+00, 2.00000000e+01, 2.55000000e+01, 1.15666667e+02,\n",
       "       7.25000000e+00, 1.40000000e+01, 8.60000000e+01, 2.06666667e+01,\n",
       "       7.25000000e+00, 2.69250000e+02, 4.20000000e+01, 2.00000000e+01,\n",
       "       1.50000000e+01, 2.13766667e+03, 1.75000000e+00, 3.63000000e+02,\n",
       "       1.75000000e+00, 7.25000000e+00, 1.72000000e+02, 1.41100000e+03,\n",
       "       3.00000000e+00, 8.60000000e+01, 1.15666667e+02, 1.23200000e+03,\n",
       "       1.75000000e+00, 2.69250000e+02, 3.00000000e+00, 7.25000000e+00,\n",
       "       2.37000000e+02, 7.46666667e+01, 8.80000000e+01, 8.60000000e+01,\n",
       "       1.75000000e+00, 1.40000000e+01, 2.93500000e+03, 3.63000000e+02,\n",
       "       2.69250000e+02, 2.55000000e+01, 1.50000000e+01, 1.15666667e+02,\n",
       "       2.85000000e+01, 1.15666667e+02, 4.76000000e+02, 3.87500000e+01,\n",
       "       8.60000000e+01, 1.43333333e+01, 1.43333333e+01, 1.23200000e+03,\n",
       "       2.20000000e+01, 1.75000000e+00, 6.50000000e+00, 2.69250000e+02,\n",
       "       2.93500000e+03, 3.00000000e+00, 5.10000000e+01, 1.90000000e+01,\n",
       "       3.63000000e+02, 1.90000000e+01, 8.60000000e+01, 1.15666667e+02,\n",
       "       2.06666667e+01, 4.50000000e+01, 5.42500000e+01, 1.43333333e+01,\n",
       "       2.93500000e+03, 2.69250000e+02, 1.90000000e+01, 4.20000000e+01,\n",
       "       4.20000000e+01, 5.94000000e+02, 6.50000000e+00, 1.43333333e+01,\n",
       "       3.05000000e+01, 4.51000000e+02, 1.25650000e+04, 1.72000000e+02,\n",
       "       3.63000000e+02, 4.20000000e+01, 2.69250000e+02, 3.00000000e+00,\n",
       "       2.55000000e+01, 4.20000000e+01, 4.55000000e+01, 8.60000000e+01,\n",
       "       8.47500000e+01, 1.43333333e+01, 1.72000000e+02, 1.23200000e+03,\n",
       "       1.75000000e+00, 8.84066667e+03, 1.75000000e+00, 4.50000000e+01,\n",
       "       1.75000000e+00, 2.69250000e+02, 3.63000000e+02, 7.46666667e+01,\n",
       "       4.33333333e+00, 1.23200000e+03, 5.10000000e+01, 1.43333333e+01,\n",
       "       3.63000000e+02, 1.75000000e+00, 4.20000000e+01, 2.55000000e+01,\n",
       "       7.25000000e+00, 4.20000000e+01, 1.72000000e+02, 6.50000000e+00,\n",
       "       1.90000000e+01, 1.90000000e+01, 7.10000000e+01, 7.46666667e+01,\n",
       "       8.14000000e+02, 2.93500000e+03, 8.80000000e+01, 1.72000000e+02,\n",
       "       3.00000000e+00, 1.43333333e+01, 1.72000000e+02, 2.37000000e+02,\n",
       "       8.60000000e+01, 8.60000000e+01, 7.46666667e+01, 1.43333333e+01,\n",
       "       6.70000000e+01, 4.50000000e+01, 1.43333333e+01, 1.75000000e+00,\n",
       "       3.00000000e+00, 1.40000000e+01, 1.52666667e+02, 1.72000000e+02,\n",
       "       2.13333333e+01, 2.85000000e+01, 1.43333333e+01, 1.40000000e+01,\n",
       "       4.20000000e+01, 1.90000000e+01, 3.05000000e+01, 1.23200000e+03,\n",
       "       1.90000000e+01, 1.43333333e+01, 2.55000000e+01, 1.72000000e+02,\n",
       "       1.75000000e+00, 4.33333333e+00, 1.46666667e+01, 2.93500000e+03,\n",
       "       1.72000000e+02, 1.75000000e+00, 6.50000000e+00, 1.72000000e+02,\n",
       "       7.25000000e+00, 1.90000000e+01, 8.60000000e+01, 2.13333333e+01,\n",
       "       3.00000000e+00, 4.20000000e+01, 1.75000000e+00, 1.75000000e+00,\n",
       "       8.60000000e+01, 6.50000000e+00, 1.41100000e+03, 4.20000000e+01,\n",
       "       3.63000000e+02, 1.75000000e+00, 2.00000000e+01, 1.00750000e+02,\n",
       "       8.60000000e+01, 7.25000000e+00, 1.43333333e+01])"
      ]
     },
     "execution_count": 47,
     "metadata": {},
     "output_type": "execute_result"
    }
   ],
   "source": [
    "pred = grid_model.predict(X_validate)\n",
    "pred_test = grid_model.predict(test_pca)\n",
    "pred_test"
   ]
  },
  {
   "cell_type": "code",
   "execution_count": 48,
   "metadata": {},
   "outputs": [],
   "source": [
    "test_dataset['Upvotes'] = pred_test"
   ]
  },
  {
   "cell_type": "code",
   "execution_count": 49,
   "metadata": {},
   "outputs": [
    {
     "name": "stdout",
     "output_type": "stream",
     "text": [
      "0.9796008844994457\n",
      "-1.0766318865100257\n",
      "RMSE: 1584.8030051878768\n",
      "[0.38415362 0.32753047 0.08014633 0.20816958]\n"
     ]
    },
    {
     "name": "stderr",
     "output_type": "stream",
     "text": [
      "[Parallel(n_jobs=1)]: Done   5 out of   5 | elapsed:    0.0s finished\n",
      "[Parallel(n_jobs=1)]: Done   5 out of   5 | elapsed:    0.0s finished\n",
      "[Parallel(n_jobs=1)]: Done   5 out of   5 | elapsed:    0.0s finished\n",
      "[Parallel(n_jobs=1)]: Done   5 out of   5 | elapsed:    0.0s finished\n"
     ]
    },
    {
     "data": {
      "text/plain": [
       "[('Reputation', 0.38415361521067204),\n",
       " ('Answers', 0.32753047369316124),\n",
       " ('Views', 0.0801463348742618),\n",
       " ('Total_Answers_by_User', 0.2081695762219049)]"
      ]
     },
     "execution_count": 49,
     "metadata": {},
     "output_type": "execute_result"
    }
   ],
   "source": [
    "from sklearn.ensemble import RandomForestRegressor\n",
    "from sklearn.metrics import mean_squared_error\n",
    "import math\n",
    "\n",
    "forest = RandomForestRegressor(n_estimators = 5, random_state = 3, verbose=1)\n",
    "my_forest = forest.fit(X_train, y_train)\n",
    "print(my_forest.score(X_train, y_train))\n",
    "\n",
    "y_predict  = my_forest.predict(X_validate)\n",
    "print(my_forest.score(X_validate, y_validate))\n",
    "rmse = math.sqrt(mean_squared_error(y_validate, y_predict))\n",
    "print('RMSE:' , rmse)\n",
    "\n",
    "print(my_forest.feature_importances_)\n",
    "list(zip(feature_cols, my_forest.feature_importances_))"
   ]
  },
  {
   "cell_type": "code",
   "execution_count": 50,
   "metadata": {},
   "outputs": [],
   "source": [
    "# Output the Dataframe into a CSV file\n",
    "test_dataset[['ID', 'Upvotes']].to_csv('Submission_Anupam_RF.csv',  index = False)"
   ]
  },
  {
   "cell_type": "code",
   "execution_count": null,
   "metadata": {},
   "outputs": [],
   "source": []
  }
 ],
 "metadata": {
  "kernelspec": {
   "display_name": "Python 3",
   "language": "python",
   "name": "python3"
  },
  "language_info": {
   "codemirror_mode": {
    "name": "ipython",
    "version": 3
   },
   "file_extension": ".py",
   "mimetype": "text/x-python",
   "name": "python",
   "nbconvert_exporter": "python",
   "pygments_lexer": "ipython3",
   "version": "3.6.4"
  }
 },
 "nbformat": 4,
 "nbformat_minor": 2
}
